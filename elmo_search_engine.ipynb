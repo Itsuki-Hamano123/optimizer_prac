{
  "nbformat": 4,
  "nbformat_minor": 0,
  "metadata": {
    "colab": {
      "name": "elmo_search_engine.ipynb",
      "provenance": [],
      "collapsed_sections": [],
      "toc_visible": true,
      "include_colab_link": true
    },
    "kernelspec": {
      "name": "python3",
      "display_name": "Python 3"
    },
    "accelerator": "GPU"
  },
  "cells": [
    {
      "cell_type": "markdown",
      "metadata": {
        "id": "view-in-github",
        "colab_type": "text"
      },
      "source": [
        "<a href=\"https://colab.research.google.com/github/Itsuki-Hamano123/optimizer_prac/blob/master/elmo_search_engine.ipynb\" target=\"_parent\"><img src=\"https://colab.research.google.com/assets/colab-badge.svg\" alt=\"Open In Colab\"/></a>"
      ]
    },
    {
      "cell_type": "code",
      "metadata": {
        "id": "X4r5UwhmiKwo",
        "colab_type": "code",
        "colab": {}
      },
      "source": [
        "import datetime\n",
        "import pathlib\n",
        "import os\n",
        "from pprint import pprint\n",
        "import pickle\n",
        "import time\n",
        "import numpy as np\n",
        "import pandas as pd"
      ],
      "execution_count": 0,
      "outputs": []
    },
    {
      "cell_type": "markdown",
      "metadata": {
        "id": "WDy68yQYF_5o",
        "colab_type": "text"
      },
      "source": [
        "## 形態素解析ツール用意\n",
        "https://qiita.com/Fulltea/items/90f6ebe6dcceaf64eaef"
      ]
    },
    {
      "cell_type": "code",
      "metadata": {
        "id": "QfxPcGjOGePV",
        "colab_type": "code",
        "outputId": "474c8d4b-3a78-49e6-b891-fe3a683b249c",
        "colab": {
          "base_uri": "https://localhost:8080/",
          "height": 503
        }
      },
      "source": [
        "# mecabのインストール\n",
        "!apt install aptitude swig\n",
        "!aptitude install mecab libmecab-dev mecab-ipadic-utf8 git make curl xz-utils file -y\n",
        "!pip install mecab-python3"
      ],
      "execution_count": 2,
      "outputs": [
        {
          "output_type": "stream",
          "text": [
            "Reading package lists... Done\n",
            "Building dependency tree       \n",
            "Reading state information... Done\n",
            "aptitude is already the newest version (0.8.10-6ubuntu1).\n",
            "swig is already the newest version (3.0.12-1).\n",
            "0 upgraded, 0 newly installed, 0 to remove and 25 not upgraded.\n",
            "mecab is already installed at the requested version (0.996-5)\n",
            "libmecab-dev is already installed at the requested version (0.996-5)\n",
            "mecab-ipadic-utf8 is already installed at the requested version (2.7.0-20070801+main-1)\n",
            "git is already installed at the requested version (1:2.17.1-1ubuntu0.5)\n",
            "make is already installed at the requested version (4.1-9.1ubuntu1)\n",
            "curl is already installed at the requested version (7.58.0-2ubuntu3.8)\n",
            "xz-utils is already installed at the requested version (5.2.2-1.3)\n",
            "file is already installed at the requested version (1:5.32-2ubuntu0.3)\n",
            "mecab is already installed at the requested version (0.996-5)\n",
            "libmecab-dev is already installed at the requested version (0.996-5)\n",
            "mecab-ipadic-utf8 is already installed at the requested version (2.7.0-20070801+main-1)\n",
            "git is already installed at the requested version (1:2.17.1-1ubuntu0.5)\n",
            "make is already installed at the requested version (4.1-9.1ubuntu1)\n",
            "curl is already installed at the requested version (7.58.0-2ubuntu3.8)\n",
            "xz-utils is already installed at the requested version (5.2.2-1.3)\n",
            "file is already installed at the requested version (1:5.32-2ubuntu0.3)\n",
            "No packages will be installed, upgraded, or removed.\n",
            "0 packages upgraded, 0 newly installed, 0 to remove and 25 not upgraded.\n",
            "Need to get 0 B of archives. After unpacking 0 B will be used.\n",
            "                            \n",
            "Requirement already satisfied: mecab-python3 in /usr/local/lib/python3.6/dist-packages (0.996.5)\n"
          ],
          "name": "stdout"
        }
      ]
    },
    {
      "cell_type": "code",
      "metadata": {
        "id": "7Bk3waEbLIhj",
        "colab_type": "code",
        "outputId": "68ea36a6-3649-4c5d-ff43-90cb2b3ada4d",
        "colab": {
          "base_uri": "https://localhost:8080/",
          "height": 1000
        }
      },
      "source": [
        "# Neologd辞書のインストール\n",
        "!git clone --depth 1 https://github.com/neologd/mecab-ipadic-neologd.git\n",
        "!echo yes | mecab-ipadic-neologd/bin/install-mecab-ipadic-neologd -n -a"
      ],
      "execution_count": 3,
      "outputs": [
        {
          "output_type": "stream",
          "text": [
            "fatal: destination path 'mecab-ipadic-neologd' already exists and is not an empty directory.\n",
            "[install-mecab-ipadic-NEologd] : Start..\n",
            "[install-mecab-ipadic-NEologd] : Check the existance of libraries\n",
            "[install-mecab-ipadic-NEologd] :     find => ok\n",
            "[install-mecab-ipadic-NEologd] :     sort => ok\n",
            "[install-mecab-ipadic-NEologd] :     head => ok\n",
            "[install-mecab-ipadic-NEologd] :     cut => ok\n",
            "[install-mecab-ipadic-NEologd] :     egrep => ok\n",
            "[install-mecab-ipadic-NEologd] :     mecab => ok\n",
            "[install-mecab-ipadic-NEologd] :     mecab-config => ok\n",
            "[install-mecab-ipadic-NEologd] :     make => ok\n",
            "[install-mecab-ipadic-NEologd] :     curl => ok\n",
            "[install-mecab-ipadic-NEologd] :     sed => ok\n",
            "[install-mecab-ipadic-NEologd] :     cat => ok\n",
            "[install-mecab-ipadic-NEologd] :     diff => ok\n",
            "[install-mecab-ipadic-NEologd] :     tar => ok\n",
            "[install-mecab-ipadic-NEologd] :     unxz => ok\n",
            "[install-mecab-ipadic-NEologd] :     xargs => ok\n",
            "[install-mecab-ipadic-NEologd] :     grep => ok\n",
            "[install-mecab-ipadic-NEologd] :     iconv => ok\n",
            "[install-mecab-ipadic-NEologd] :     patch => ok\n",
            "[install-mecab-ipadic-NEologd] :     which => ok\n",
            "[install-mecab-ipadic-NEologd] :     file => ok\n",
            "[install-mecab-ipadic-NEologd] :     openssl => ok\n",
            "[install-mecab-ipadic-NEologd] :     awk => ok\n",
            "\n",
            "[install-mecab-ipadic-NEologd] : mecab-ipadic-NEologd is already up-to-date\n",
            "\n",
            "[install-mecab-ipadic-NEologd] : mecab-ipadic-NEologd will be install to /usr/lib/x86_64-linux-gnu/mecab/dic/mecab-ipadic-neologd\n",
            "\n",
            "[install-mecab-ipadic-NEologd] : Make mecab-ipadic-NEologd\n",
            "[make-mecab-ipadic-NEologd] : Start..\n",
            "[make-mecab-ipadic-NEologd] : Check local seed directory\n",
            "[make-mecab-ipadic-NEologd] : Check local seed file\n",
            "[make-mecab-ipadic-NEologd] : Check local build directory\n",
            "[make-mecab-ipadic-NEologd] : Download original mecab-ipadic file\n",
            "[make-mecab-ipadic-NEologd] : Original mecab-ipadic file is already there.\n",
            "[make-mecab-ipadic-NEologd] : Decompress original mecab-ipadic file\n",
            "[make-mecab-ipadic-NEologd] : Delete old mecab-ipadic-2.7.0-20070801-neologd-20200315 directory\n",
            "mecab-ipadic-2.7.0-20070801/\n",
            "mecab-ipadic-2.7.0-20070801/README\n",
            "mecab-ipadic-2.7.0-20070801/AUTHORS\n",
            "mecab-ipadic-2.7.0-20070801/COPYING\n",
            "mecab-ipadic-2.7.0-20070801/ChangeLog\n",
            "mecab-ipadic-2.7.0-20070801/INSTALL\n",
            "mecab-ipadic-2.7.0-20070801/Makefile.am\n",
            "mecab-ipadic-2.7.0-20070801/Makefile.in\n",
            "mecab-ipadic-2.7.0-20070801/NEWS\n",
            "mecab-ipadic-2.7.0-20070801/aclocal.m4\n",
            "mecab-ipadic-2.7.0-20070801/config.guess\n",
            "mecab-ipadic-2.7.0-20070801/config.sub\n",
            "mecab-ipadic-2.7.0-20070801/configure\n",
            "mecab-ipadic-2.7.0-20070801/configure.in\n",
            "mecab-ipadic-2.7.0-20070801/install-sh\n",
            "mecab-ipadic-2.7.0-20070801/missing\n",
            "mecab-ipadic-2.7.0-20070801/mkinstalldirs\n",
            "mecab-ipadic-2.7.0-20070801/Adj.csv\n",
            "mecab-ipadic-2.7.0-20070801/Adnominal.csv\n",
            "mecab-ipadic-2.7.0-20070801/Adverb.csv\n",
            "mecab-ipadic-2.7.0-20070801/Auxil.csv\n",
            "mecab-ipadic-2.7.0-20070801/Conjunction.csv\n",
            "mecab-ipadic-2.7.0-20070801/Filler.csv\n",
            "mecab-ipadic-2.7.0-20070801/Interjection.csv\n",
            "mecab-ipadic-2.7.0-20070801/Noun.adjv.csv\n",
            "mecab-ipadic-2.7.0-20070801/Noun.adverbal.csv\n",
            "mecab-ipadic-2.7.0-20070801/Noun.csv\n",
            "mecab-ipadic-2.7.0-20070801/Noun.demonst.csv\n",
            "mecab-ipadic-2.7.0-20070801/Noun.nai.csv\n",
            "mecab-ipadic-2.7.0-20070801/Noun.name.csv\n",
            "mecab-ipadic-2.7.0-20070801/Noun.number.csv\n",
            "mecab-ipadic-2.7.0-20070801/Noun.org.csv\n",
            "mecab-ipadic-2.7.0-20070801/Noun.others.csv\n",
            "mecab-ipadic-2.7.0-20070801/Noun.place.csv\n",
            "mecab-ipadic-2.7.0-20070801/Noun.proper.csv\n",
            "mecab-ipadic-2.7.0-20070801/Noun.verbal.csv\n",
            "mecab-ipadic-2.7.0-20070801/Others.csv\n",
            "mecab-ipadic-2.7.0-20070801/Postp-col.csv\n",
            "mecab-ipadic-2.7.0-20070801/Postp.csv\n",
            "mecab-ipadic-2.7.0-20070801/Prefix.csv\n",
            "mecab-ipadic-2.7.0-20070801/Suffix.csv\n",
            "mecab-ipadic-2.7.0-20070801/Symbol.csv\n",
            "mecab-ipadic-2.7.0-20070801/Verb.csv\n",
            "mecab-ipadic-2.7.0-20070801/char.def\n",
            "mecab-ipadic-2.7.0-20070801/feature.def\n",
            "mecab-ipadic-2.7.0-20070801/left-id.def\n",
            "mecab-ipadic-2.7.0-20070801/matrix.def\n",
            "mecab-ipadic-2.7.0-20070801/pos-id.def\n",
            "mecab-ipadic-2.7.0-20070801/rewrite.def\n",
            "mecab-ipadic-2.7.0-20070801/right-id.def\n",
            "mecab-ipadic-2.7.0-20070801/unk.def\n",
            "mecab-ipadic-2.7.0-20070801/dicrc\n",
            "mecab-ipadic-2.7.0-20070801/RESULT\n",
            "[make-mecab-ipadic-NEologd] : Configure custom system dictionary on /content/mecab-ipadic-neologd/libexec/../build/mecab-ipadic-2.7.0-20070801-neologd-20200315\n",
            "checking for a BSD-compatible install... /usr/bin/install -c\n",
            "checking whether build environment is sane... yes\n",
            "checking whether make sets $(MAKE)... yes\n",
            "checking for working aclocal-1.4... missing\n",
            "checking for working autoconf... missing\n",
            "checking for working automake-1.4... missing\n",
            "checking for working autoheader... missing\n",
            "checking for working makeinfo... missing\n",
            "checking for a BSD-compatible install... /usr/bin/install -c\n",
            "checking for mecab-config... /usr/bin/mecab-config\n",
            "configure: creating ./config.status\n",
            "config.status: creating Makefile\n",
            "[make-mecab-ipadic-NEologd] : Encode the character encoding of system dictionary resources from EUC_JP to UTF-8\n",
            "./../../libexec/iconv_euc_to_utf8.sh ./Adverb.csv \n",
            "./../../libexec/iconv_euc_to_utf8.sh ./Noun.adverbal.csv \n",
            "./../../libexec/iconv_euc_to_utf8.sh ./Interjection.csv \n",
            "./../../libexec/iconv_euc_to_utf8.sh ./Adj.csv \n",
            "./../../libexec/iconv_euc_to_utf8.sh ./Adnominal.csv \n",
            "./../../libexec/iconv_euc_to_utf8.sh ./Noun.csv \n",
            "./../../libexec/iconv_euc_to_utf8.sh ./Conjunction.csv \n",
            "./../../libexec/iconv_euc_to_utf8.sh ./Postp.csv \n",
            "./../../libexec/iconv_euc_to_utf8.sh ./Noun.proper.csv \n",
            "./../../libexec/iconv_euc_to_utf8.sh ./Filler.csv \n",
            "./../../libexec/iconv_euc_to_utf8.sh ./Prefix.csv \n",
            "./../../libexec/iconv_euc_to_utf8.sh ./Suffix.csv \n",
            "./../../libexec/iconv_euc_to_utf8.sh ./Noun.number.csv \n",
            "./../../libexec/iconv_euc_to_utf8.sh ./Auxil.csv \n",
            "./../../libexec/iconv_euc_to_utf8.sh ./Others.csv \n",
            "./../../libexec/iconv_euc_to_utf8.sh ./Postp-col.csv \n",
            "./../../libexec/iconv_euc_to_utf8.sh ./Noun.others.csv \n",
            "./../../libexec/iconv_euc_to_utf8.sh ./Noun.nai.csv \n",
            "./../../libexec/iconv_euc_to_utf8.sh ./Noun.place.csv \n",
            "./../../libexec/iconv_euc_to_utf8.sh ./Noun.adjv.csv \n",
            "./../../libexec/iconv_euc_to_utf8.sh ./Noun.verbal.csv \n",
            "./../../libexec/iconv_euc_to_utf8.sh ./Noun.name.csv \n",
            "./../../libexec/iconv_euc_to_utf8.sh ./Verb.csv \n",
            "./../../libexec/iconv_euc_to_utf8.sh ./Symbol.csv \n",
            "./../../libexec/iconv_euc_to_utf8.sh ./Noun.org.csv \n",
            "./../../libexec/iconv_euc_to_utf8.sh ./Noun.demonst.csv \n",
            "rm ./Adverb.csv \n",
            "rm ./Noun.adverbal.csv \n",
            "rm ./Interjection.csv \n",
            "rm ./Adj.csv \n",
            "rm ./Adnominal.csv \n",
            "rm ./Noun.csv \n",
            "rm ./Conjunction.csv \n",
            "rm ./Postp.csv \n",
            "rm ./Noun.proper.csv \n",
            "rm ./Filler.csv \n",
            "rm ./Prefix.csv \n",
            "rm ./Suffix.csv \n",
            "rm ./Noun.number.csv \n",
            "rm ./Auxil.csv \n",
            "rm ./Others.csv \n",
            "rm ./Postp-col.csv \n",
            "rm ./Noun.others.csv \n",
            "rm ./Noun.nai.csv \n",
            "rm ./Noun.place.csv \n",
            "rm ./Noun.adjv.csv \n",
            "rm ./Noun.verbal.csv \n",
            "rm ./Noun.name.csv \n",
            "rm ./Verb.csv \n",
            "rm ./Symbol.csv \n",
            "rm ./Noun.org.csv \n",
            "rm ./Noun.demonst.csv \n",
            "./../../libexec/iconv_euc_to_utf8.sh ./right-id.def \n",
            "./../../libexec/iconv_euc_to_utf8.sh ./char.def \n",
            "./../../libexec/iconv_euc_to_utf8.sh ./feature.def \n",
            "./../../libexec/iconv_euc_to_utf8.sh ./left-id.def \n",
            "./../../libexec/iconv_euc_to_utf8.sh ./rewrite.def \n",
            "./../../libexec/iconv_euc_to_utf8.sh ./matrix.def \n",
            "./../../libexec/iconv_euc_to_utf8.sh ./pos-id.def \n",
            "./../../libexec/iconv_euc_to_utf8.sh ./unk.def \n",
            "rm ./right-id.def \n",
            "rm ./char.def \n",
            "rm ./feature.def \n",
            "rm ./left-id.def \n",
            "rm ./rewrite.def \n",
            "rm ./matrix.def \n",
            "rm ./pos-id.def \n",
            "rm ./unk.def \n",
            "mv ./Noun.others.csv.utf8 ./Noun.others.csv \n",
            "mv ./Symbol.csv.utf8 ./Symbol.csv \n",
            "mv ./feature.def.utf8 ./feature.def \n",
            "mv ./Postp-col.csv.utf8 ./Postp-col.csv \n",
            "mv ./Noun.adjv.csv.utf8 ./Noun.adjv.csv \n",
            "mv ./Noun.number.csv.utf8 ./Noun.number.csv \n",
            "mv ./Noun.demonst.csv.utf8 ./Noun.demonst.csv \n",
            "mv ./Verb.csv.utf8 ./Verb.csv \n",
            "mv ./Interjection.csv.utf8 ./Interjection.csv \n",
            "mv ./pos-id.def.utf8 ./pos-id.def \n",
            "mv ./Postp.csv.utf8 ./Postp.csv \n",
            "mv ./matrix.def.utf8 ./matrix.def \n",
            "mv ./Filler.csv.utf8 ./Filler.csv \n",
            "mv ./unk.def.utf8 ./unk.def \n",
            "mv ./Adnominal.csv.utf8 ./Adnominal.csv \n",
            "mv ./left-id.def.utf8 ./left-id.def \n",
            "mv ./Noun.adverbal.csv.utf8 ./Noun.adverbal.csv \n",
            "mv ./char.def.utf8 ./char.def \n",
            "mv ./Prefix.csv.utf8 ./Prefix.csv \n",
            "mv ./Noun.verbal.csv.utf8 ./Noun.verbal.csv \n",
            "mv ./Noun.csv.utf8 ./Noun.csv \n",
            "mv ./Noun.name.csv.utf8 ./Noun.name.csv \n",
            "mv ./Auxil.csv.utf8 ./Auxil.csv \n",
            "mv ./Adverb.csv.utf8 ./Adverb.csv \n",
            "mv ./Noun.place.csv.utf8 ./Noun.place.csv \n",
            "mv ./Suffix.csv.utf8 ./Suffix.csv \n",
            "mv ./Noun.proper.csv.utf8 ./Noun.proper.csv \n",
            "mv ./Conjunction.csv.utf8 ./Conjunction.csv \n",
            "mv ./right-id.def.utf8 ./right-id.def \n",
            "mv ./Adj.csv.utf8 ./Adj.csv \n",
            "mv ./Others.csv.utf8 ./Others.csv \n",
            "mv ./rewrite.def.utf8 ./rewrite.def \n",
            "mv ./Noun.org.csv.utf8 ./Noun.org.csv \n",
            "mv ./Noun.nai.csv.utf8 ./Noun.nai.csv \n",
            "[make-mecab-ipadic-NEologd] : Fix yomigana field of IPA dictionary\n",
            "patching file Noun.csv\n",
            "patching file Noun.place.csv\n",
            "patching file Verb.csv\n",
            "patching file Noun.verbal.csv\n",
            "patching file Noun.name.csv\n",
            "patching file Noun.adverbal.csv\n",
            "patching file Noun.csv\n",
            "patching file Noun.name.csv\n",
            "patching file Noun.org.csv\n",
            "patching file Noun.others.csv\n",
            "patching file Noun.place.csv\n",
            "patching file Noun.proper.csv\n",
            "patching file Noun.verbal.csv\n",
            "patching file Prefix.csv\n",
            "patching file Suffix.csv\n",
            "patching file Noun.proper.csv\n",
            "patching file Noun.csv\n",
            "patching file Noun.name.csv\n",
            "patching file Noun.org.csv\n",
            "patching file Noun.place.csv\n",
            "patching file Noun.proper.csv\n",
            "patching file Noun.verbal.csv\n",
            "patching file Noun.name.csv\n",
            "patching file Noun.org.csv\n",
            "patching file Noun.place.csv\n",
            "patching file Noun.proper.csv\n",
            "patching file Suffix.csv\n",
            "patching file Noun.demonst.csv\n",
            "patching file Noun.csv\n",
            "patching file Noun.name.csv\n",
            "[make-mecab-ipadic-NEologd] : Copy user dictionary resource\n",
            "[make-mecab-ipadic-NEologd] : Install adverb entries using /content/mecab-ipadic-neologd/libexec/../seed/neologd-adverb-dict-seed.20150623.csv.xz\n",
            "[make-mecab-ipadic-NEologd] : Install interjection entries using /content/mecab-ipadic-neologd/libexec/../seed/neologd-interjection-dict-seed.20170216.csv.xz\n",
            "[make-mecab-ipadic-NEologd] : Install noun orthographic variant entries using /content/mecab-ipadic-neologd/libexec/../seed/neologd-common-noun-ortho-variant-dict-seed.20170228.csv.xz\n",
            "[make-mecab-ipadic-NEologd] : Install noun orthographic variant entries using /content/mecab-ipadic-neologd/libexec/../seed/neologd-proper-noun-ortho-variant-dict-seed.20161110.csv.xz\n",
            "[make-mecab-ipadic-NEologd] : Install entries of orthographic variant of a noun used as verb form using /content/mecab-ipadic-neologd/libexec/../seed/neologd-noun-sahen-conn-ortho-variant-dict-seed.20160323.csv.xz\n",
            "[make-mecab-ipadic-NEologd] : Install frequent adjective orthographic variant entries using /content/mecab-ipadic-neologd/libexec/../seed/neologd-adjective-std-dict-seed.20151126.csv.xz\n",
            "[make-mecab-ipadic-NEologd] : Install infrequent adjective orthographic variant entries using /content/mecab-ipadic-neologd/libexec/../seed/neologd-adjective-exp-dict-seed.20151126.csv.xz\n",
            "[make-mecab-ipadic-NEologd] : Install adjective verb orthographic variant entries using /content/mecab-ipadic-neologd/libexec/../seed/neologd-adjective-verb-dict-seed.20160324.csv.xz\n",
            "[make-mecab-ipadic-NEologd] : Install infrequent datetime representation entries using /content/mecab-ipadic-neologd/libexec/../seed/neologd-date-time-infreq-dict-seed.20190415.csv.xz\n",
            "[make-mecab-ipadic-NEologd] : Install infrequent quantity representation entries using /content/mecab-ipadic-neologd/libexec/../seed/neologd-quantity-infreq-dict-seed.20190415.csv.xz\n",
            "[make-mecab-ipadic-NEologd] : Install entries of ill formed words using /content/mecab-ipadic-neologd/libexec/../seed/neologd-ill-formed-words-dict-seed.20170127.csv.xz\n",
            "[make-mecab-ipadic-NEologd] : Re-Index system dictionary\n",
            "reading ./unk.def ... 40\n",
            "emitting double-array: 100% |###########################################| \n",
            "./model.def is not found. skipped.\n",
            "reading ./neologd-adjective-verb-dict-seed.20160324.csv ... 20268\n",
            "reading ./Adverb.csv ... 3032\n",
            "reading ./Noun.adverbal.csv ... 808\n",
            "reading ./neologd-date-time-infreq-dict-seed.20190415.csv ... 16866\n",
            "reading ./Interjection.csv ... 252\n",
            "reading ./neologd-common-noun-ortho-variant-dict-seed.20170228.csv ... 152869\n",
            "reading ./Adj.csv ... 27210\n",
            "reading ./neologd-interjection-dict-seed.20170216.csv ... 4701\n",
            "reading ./Adnominal.csv ... 135\n",
            "reading ./neologd-noun-sahen-conn-ortho-variant-dict-seed.20160323.csv ... 26058\n",
            "reading ./Noun.csv ... 60734\n",
            "reading ./Conjunction.csv ... 171\n",
            "reading ./Postp.csv ... 146\n",
            "reading ./Noun.proper.csv ... 27493\n",
            "reading ./Filler.csv ... 19\n",
            "reading ./Prefix.csv ... 224\n",
            "reading ./Suffix.csv ... 1448\n",
            "reading ./Noun.number.csv ... 42\n",
            "reading ./Auxil.csv ... 199\n",
            "reading ./neologd-ill-formed-words-dict-seed.20170127.csv ... 60616\n",
            "reading ./Others.csv ... 2\n",
            "reading ./Postp-col.csv ... 91\n",
            "reading ./Noun.others.csv ... 153\n",
            "reading ./neologd-proper-noun-ortho-variant-dict-seed.20161110.csv ... 138379\n",
            "reading ./neologd-adjective-exp-dict-seed.20151126.csv ... 1051146\n",
            "reading ./mecab-user-dict-seed.20200315.csv ... 3187380\n",
            "reading ./Noun.nai.csv ... 42\n",
            "reading ./Noun.place.csv ... 73194\n",
            "reading ./Noun.adjv.csv ... 3328\n",
            "reading ./neologd-adverb-dict-seed.20150623.csv ... 139792\n",
            "reading ./Noun.verbal.csv ... 12150\n",
            "tcmalloc: large alloc 1224744960 bytes == 0x55a67a620000 @  0x7f2d87f29887 0x7f2d87098b8b 0x7f2d8709a133 0x7f2d87b9ea66 0x7f2d87b72e53 0x7f2d87758b97 0x55a617f5567a\n",
            "reading ./neologd-adjective-std-dict-seed.20151126.csv ... 507812\n",
            "reading ./Noun.name.csv ... 34215\n",
            "reading ./Verb.csv ... 130750\n",
            "reading ./neologd-quantity-infreq-dict-seed.20190415.csv ... 229216\n",
            "reading ./Symbol.csv ... 208\n",
            "reading ./Noun.org.csv ... 17149\n",
            "reading ./Noun.demonst.csv ... 120\n",
            "emitting double-array: 100% |###########################################| \n",
            "reading ./matrix.def ... 1316x1316\n",
            "emitting matrix      : 100% |###########################################| \n",
            "\n",
            "done!\n",
            "[make-mecab-ipadic-NEologd] : Make custom system dictionary on /content/mecab-ipadic-neologd/libexec/../build/mecab-ipadic-2.7.0-20070801-neologd-20200315\n",
            "make: Nothing to be done for 'all'.\n",
            "[make-mecab-ipadic-NEologd] : Finish..\n",
            "[install-mecab-ipadic-NEologd] : Get results of tokenize test\n",
            "[test-mecab-ipadic-NEologd] : Start..\n",
            "[test-mecab-ipadic-NEologd] : Replace timestamp from 'git clone' date to 'git commit' date\n",
            "[test-mecab-ipadic-NEologd] : Get buzz phrases\n",
            "  % Total    % Received % Xferd  Average Speed   Time    Time     Time  Current\n",
            "                                 Dload  Upload   Total   Spent    Left  Speed\n",
            "100  1428  100  1428    0     0   3180      0 --:--:-- --:--:-- --:--:--  3173\n",
            "[test-mecab-ipadic-NEologd] : Get difference between default system dictionary and mecab-ipadic-NEologd\n",
            "[test-mecab-ipadic-NEologd] : Tokenize phrase using default system dictionary\n",
            "[test-mecab-ipadic-NEologd] : Tokenize phrase using mecab-ipadic-NEologd\n",
            "[test-mecab-ipadic-NEologd] : Get result of diff\n",
            "[test-mecab-ipadic-NEologd] : Please check difference between default system dictionary and mecab-ipadic-NEologd\n",
            "\n",
            "default system dictionary\t  |\tmecab-ipadic-NEologd\n",
            "グッド ドクター \t\t  |\tグッドドクター \n",
            "島根 県 \t\t\t  |\t島根県 \n",
            "長浜 ラーメン \t\t\t  |\t長浜ラーメン \n",
            "め め さく \t\t\t  |\tめめ さく \n",
            "河井 案 里 \t\t\t  |\t河井案里 \n",
            "山 P \t\t\t\t  |\t山P \n",
            "糸井 重 里 \t\t\t  |\t糸井重里 \n",
            "橋本 環 奈 \t\t\t  |\t橋本環奈 \n",
            "92 人 \t\t\t\t  |\t92人 \n",
            "\n",
            "[test-mecab-ipadic-NEologd] : Finish..\n",
            "\n",
            "[install-mecab-ipadic-NEologd] : Please check the list of differences in the upper part.\n",
            "\n",
            "[install-mecab-ipadic-NEologd] : Do you want to install mecab-ipadic-NEologd? Type yes or no.\n",
            "[install-mecab-ipadic-NEologd] : OK. Let's install mecab-ipadic-NEologd.\n",
            "[install-mecab-ipadic-NEologd] : Start..\n",
            "[install-mecab-ipadic-NEologd] : /usr/lib/x86_64-linux-gnu/mecab/dic is current user's directory\n",
            "[install-mecab-ipadic-NEologd] : Make install to /usr/lib/x86_64-linux-gnu/mecab/dic/mecab-ipadic-neologd\n",
            "make[1]: Entering directory '/content/mecab-ipadic-neologd/build/mecab-ipadic-2.7.0-20070801-neologd-20200315'\n",
            "make[1]: Nothing to be done for 'install-exec-am'.\n",
            "/bin/bash ./mkinstalldirs /usr/lib/x86_64-linux-gnu/mecab/dic/mecab-ipadic-neologd\n",
            " /usr/bin/install -c -m 644 ./matrix.bin /usr/lib/x86_64-linux-gnu/mecab/dic/mecab-ipadic-neologd/matrix.bin\n",
            " /usr/bin/install -c -m 644 ./char.bin /usr/lib/x86_64-linux-gnu/mecab/dic/mecab-ipadic-neologd/char.bin\n",
            " /usr/bin/install -c -m 644 ./sys.dic /usr/lib/x86_64-linux-gnu/mecab/dic/mecab-ipadic-neologd/sys.dic\n",
            " /usr/bin/install -c -m 644 ./unk.dic /usr/lib/x86_64-linux-gnu/mecab/dic/mecab-ipadic-neologd/unk.dic\n",
            " /usr/bin/install -c -m 644 ./left-id.def /usr/lib/x86_64-linux-gnu/mecab/dic/mecab-ipadic-neologd/left-id.def\n",
            " /usr/bin/install -c -m 644 ./right-id.def /usr/lib/x86_64-linux-gnu/mecab/dic/mecab-ipadic-neologd/right-id.def\n",
            " /usr/bin/install -c -m 644 ./rewrite.def /usr/lib/x86_64-linux-gnu/mecab/dic/mecab-ipadic-neologd/rewrite.def\n",
            " /usr/bin/install -c -m 644 ./pos-id.def /usr/lib/x86_64-linux-gnu/mecab/dic/mecab-ipadic-neologd/pos-id.def\n",
            " /usr/bin/install -c -m 644 ./dicrc /usr/lib/x86_64-linux-gnu/mecab/dic/mecab-ipadic-neologd/dicrc\n",
            "make[1]: Leaving directory '/content/mecab-ipadic-neologd/build/mecab-ipadic-2.7.0-20070801-neologd-20200315'\n",
            "\n",
            "[install-mecab-ipadic-NEologd] : Install completed.\n",
            "[install-mecab-ipadic-NEologd] : When you use MeCab, you can set '/usr/lib/x86_64-linux-gnu/mecab/dic/mecab-ipadic-neologd' as a value of '-d' option of MeCab.\n",
            "[install-mecab-ipadic-NEologd] : Usage of mecab-ipadic-NEologd is here.\n",
            "Usage:\n",
            "    $ mecab -d /usr/lib/x86_64-linux-gnu/mecab/dic/mecab-ipadic-neologd ...\n",
            "\n",
            "[install-mecab-ipadic-NEologd] : Finish..\n",
            "[install-mecab-ipadic-NEologd] : Finish..\n"
          ],
          "name": "stdout"
        }
      ]
    },
    {
      "cell_type": "code",
      "metadata": {
        "id": "B1tdW-1BGkNG",
        "colab_type": "code",
        "colab": {}
      },
      "source": [
        "import MeCab\n",
        "import subprocess"
      ],
      "execution_count": 0,
      "outputs": []
    },
    {
      "cell_type": "code",
      "metadata": {
        "id": "oqc3laRYJqhT",
        "colab_type": "code",
        "outputId": "de42a519-df43-40c8-aa22-a2e35b138108",
        "colab": {
          "base_uri": "https://localhost:8080/",
          "height": 35
        }
      },
      "source": [
        "!ls"
      ],
      "execution_count": 5,
      "outputs": [
        {
          "output_type": "stream",
          "text": [
            "drive  mecab-ipadic-neologd  sample_data\n"
          ],
          "name": "stdout"
        }
      ]
    },
    {
      "cell_type": "code",
      "metadata": {
        "id": "5zUUkLR-Gmgd",
        "colab_type": "code",
        "outputId": "b158f0ec-ee0c-458c-f31f-312688f5a4a8",
        "colab": {
          "base_uri": "https://localhost:8080/",
          "height": 703
        }
      },
      "source": [
        "cmd = 'echo `mecab-config --dicdir`\"/mecab-ipadic-neologd\"'\n",
        "neologd_path = (subprocess.Popen(cmd, stdout=subprocess.PIPE,\n",
        "                           shell=True).communicate()[0]).decode('utf-8')\n",
        "# Neologd辞書の設定\n",
        "m_neologd = MeCab.Tagger(\"-d {0}\".format(neologd_path))\n",
        "\n",
        "m_neologd_sample_txt = \"8月3日に放送された「中居正広の金曜日のスマイルたちへ」(TBS系)で、1日たった5分でぽっこりおなかを解消するというダイエット方法を紹介。キンタロー。のダイエットにも密着。\"\n",
        "\n",
        "print(\"Mecab ipadic NEologd:\\n\",m_neologd.parse(m_neologd_sample_txt))"
      ],
      "execution_count": 6,
      "outputs": [
        {
          "output_type": "stream",
          "text": [
            "Mecab ipadic NEologd:\n",
            " 8月3日\t名詞,固有名詞,一般,*,*,*,8月3日,ハチガツミッカ,ハチガツミッカ\n",
            "に\t助詞,格助詞,一般,*,*,*,に,ニ,ニ\n",
            "放送\t名詞,サ変接続,*,*,*,*,放送,ホウソウ,ホーソー\n",
            "さ\t動詞,自立,*,*,サ変・スル,未然レル接続,する,サ,サ\n",
            "れ\t動詞,接尾,*,*,一段,連用形,れる,レ,レ\n",
            "た\t助動詞,*,*,*,特殊・タ,基本形,た,タ,タ\n",
            "「\t記号,括弧開,*,*,*,*,「,「,「\n",
            "中居正広の金曜日のスマイルたちへ\t名詞,固有名詞,一般,*,*,*,中居正広の金曜日のスマイルたちへ,ナカイマサヒロノキンヨウビノスマイルタチヘ,ナカイマサヒロノキンヨービノスマイルタチヘ\n",
            "」(\t記号,一般,*,*,*,*,*\n",
            "TBS\t名詞,固有名詞,一般,*,*,*,TBS,ティービーエス,ティービーエス\n",
            "系\t名詞,接尾,一般,*,*,*,系,ケイ,ケイ\n",
            ")\t記号,一般,*,*,*,*,*\n",
            "で\t助動詞,*,*,*,特殊・ダ,連用形,だ,デ,デ\n",
            "、\t記号,読点,*,*,*,*,、,、,、\n",
            "1日\t名詞,固有名詞,一般,*,*,*,1日,ツイタチ,ツイタチ\n",
            "たった\t副詞,助詞類接続,*,*,*,*,たった,タッタ,タッタ\n",
            "5分\t名詞,固有名詞,一般,*,*,*,5分,ゴフン,ゴフン\n",
            "で\t助詞,格助詞,一般,*,*,*,で,デ,デ\n",
            "ぽっこりおなか\t名詞,固有名詞,一般,*,*,*,ぽっこりおなか,ポッコリオナカ,ポッコリオナカ\n",
            "を\t助詞,格助詞,一般,*,*,*,を,ヲ,ヲ\n",
            "解消\t名詞,サ変接続,*,*,*,*,解消,カイショウ,カイショー\n",
            "する\t動詞,自立,*,*,サ変・スル,基本形,する,スル,スル\n",
            "という\t助詞,格助詞,連語,*,*,*,という,トイウ,トユウ\n",
            "ダイエット方法\t名詞,固有名詞,一般,*,*,*,ダイエット方法,ダイエットホウホウ,ダイエットホウホー\n",
            "を\t助詞,格助詞,一般,*,*,*,を,ヲ,ヲ\n",
            "紹介\t名詞,サ変接続,*,*,*,*,紹介,ショウカイ,ショーカイ\n",
            "。\t記号,句点,*,*,*,*,。,。,。\n",
            "キンタロー。\t名詞,固有名詞,一般,*,*,*,キンタロー。,キンタロー,キンタロー\n",
            "の\t助詞,連体化,*,*,*,*,の,ノ,ノ\n",
            "ダイエット\t名詞,サ変接続,*,*,*,*,ダイエット,ダイエット,ダイエット\n",
            "に\t助詞,格助詞,一般,*,*,*,に,ニ,ニ\n",
            "も\t助詞,係助詞,*,*,*,*,も,モ,モ\n",
            "密着\t名詞,サ変接続,*,*,*,*,密着,ミッチャク,ミッチャク\n",
            "。\t記号,句点,*,*,*,*,。,。,。\n",
            "EOS\n",
            "\n"
          ],
          "name": "stdout"
        }
      ]
    },
    {
      "cell_type": "markdown",
      "metadata": {
        "id": "qthez6FSMZzl",
        "colab_type": "text"
      },
      "source": [
        "## ELMoモデルの準備\n",
        "ELMoForManyLangsを使う"
      ]
    },
    {
      "cell_type": "code",
      "metadata": {
        "id": "55OSn-B2yDxw",
        "colab_type": "code",
        "outputId": "b1247301-476b-46f4-c510-679b5aefb096",
        "colab": {
          "base_uri": "https://localhost:8080/",
          "height": 1000
        }
      },
      "source": [
        "# ELMoForManyLangsに必要なライブラリ\n",
        "!pip install allennlp"
      ],
      "execution_count": 7,
      "outputs": [
        {
          "output_type": "stream",
          "text": [
            "Requirement already satisfied: allennlp in /usr/local/lib/python3.6/dist-packages (0.9.0)\n",
            "Requirement already satisfied: unidecode in /usr/local/lib/python3.6/dist-packages (from allennlp) (1.1.1)\n",
            "Requirement already satisfied: flask>=1.0.2 in /usr/local/lib/python3.6/dist-packages (from allennlp) (1.1.1)\n",
            "Requirement already satisfied: requests>=2.18 in /usr/local/lib/python3.6/dist-packages (from allennlp) (2.21.0)\n",
            "Requirement already satisfied: h5py in /usr/local/lib/python3.6/dist-packages (from allennlp) (2.10.0)\n",
            "Requirement already satisfied: scikit-learn in /usr/local/lib/python3.6/dist-packages (from allennlp) (0.22.2.post1)\n",
            "Requirement already satisfied: gevent>=1.3.6 in /usr/local/lib/python3.6/dist-packages (from allennlp) (1.4.0)\n",
            "Requirement already satisfied: editdistance in /usr/local/lib/python3.6/dist-packages (from allennlp) (0.5.3)\n",
            "Requirement already satisfied: boto3 in /usr/local/lib/python3.6/dist-packages (from allennlp) (1.12.35)\n",
            "Requirement already satisfied: parsimonious>=0.8.0 in /usr/local/lib/python3.6/dist-packages (from allennlp) (0.8.1)\n",
            "Requirement already satisfied: overrides in /usr/local/lib/python3.6/dist-packages (from allennlp) (2.8.0)\n",
            "Requirement already satisfied: jsonnet>=0.10.0; sys_platform != \"win32\" in /usr/local/lib/python3.6/dist-packages (from allennlp) (0.15.0)\n",
            "Requirement already satisfied: ftfy in /usr/local/lib/python3.6/dist-packages (from allennlp) (5.7)\n",
            "Requirement already satisfied: spacy<2.2,>=2.1.0 in /usr/local/lib/python3.6/dist-packages (from allennlp) (2.1.9)\n",
            "Requirement already satisfied: scipy in /usr/local/lib/python3.6/dist-packages (from allennlp) (1.4.1)\n",
            "Requirement already satisfied: nltk in /usr/local/lib/python3.6/dist-packages (from allennlp) (3.2.5)\n",
            "Requirement already satisfied: numpydoc>=0.8.0 in /usr/local/lib/python3.6/dist-packages (from allennlp) (0.9.2)\n",
            "Requirement already satisfied: sqlparse>=0.2.4 in /usr/local/lib/python3.6/dist-packages (from allennlp) (0.3.1)\n",
            "Requirement already satisfied: jsonpickle in /usr/local/lib/python3.6/dist-packages (from allennlp) (1.3)\n",
            "Requirement already satisfied: conllu==1.3.1 in /usr/local/lib/python3.6/dist-packages (from allennlp) (1.3.1)\n",
            "Requirement already satisfied: responses>=0.7 in /usr/local/lib/python3.6/dist-packages (from allennlp) (0.10.12)\n",
            "Requirement already satisfied: matplotlib>=2.2.3 in /usr/local/lib/python3.6/dist-packages (from allennlp) (3.2.1)\n",
            "Requirement already satisfied: pytz>=2017.3 in /usr/local/lib/python3.6/dist-packages (from allennlp) (2018.9)\n",
            "Requirement already satisfied: torch>=1.2.0 in /usr/local/lib/python3.6/dist-packages (from allennlp) (1.4.0)\n",
            "Requirement already satisfied: pytorch-transformers==1.1.0 in /usr/local/lib/python3.6/dist-packages (from allennlp) (1.1.0)\n",
            "Requirement already satisfied: pytest in /usr/local/lib/python3.6/dist-packages (from allennlp) (3.6.4)\n",
            "Requirement already satisfied: flaky in /usr/local/lib/python3.6/dist-packages (from allennlp) (3.6.1)\n",
            "Requirement already satisfied: word2number>=1.1 in /usr/local/lib/python3.6/dist-packages (from allennlp) (1.1)\n",
            "Requirement already satisfied: tensorboardX>=1.2 in /usr/local/lib/python3.6/dist-packages (from allennlp) (2.0)\n",
            "Requirement already satisfied: pytorch-pretrained-bert>=0.6.0 in /usr/local/lib/python3.6/dist-packages (from allennlp) (0.6.2)\n",
            "Requirement already satisfied: flask-cors>=3.0.7 in /usr/local/lib/python3.6/dist-packages (from allennlp) (3.0.8)\n",
            "Requirement already satisfied: tqdm>=4.19 in /usr/local/lib/python3.6/dist-packages (from allennlp) (4.38.0)\n",
            "Requirement already satisfied: numpy in /usr/local/lib/python3.6/dist-packages (from allennlp) (1.18.2)\n",
            "Requirement already satisfied: itsdangerous>=0.24 in /usr/local/lib/python3.6/dist-packages (from flask>=1.0.2->allennlp) (1.1.0)\n",
            "Requirement already satisfied: Werkzeug>=0.15 in /usr/local/lib/python3.6/dist-packages (from flask>=1.0.2->allennlp) (1.0.1)\n",
            "Requirement already satisfied: Jinja2>=2.10.1 in /usr/local/lib/python3.6/dist-packages (from flask>=1.0.2->allennlp) (2.11.1)\n",
            "Requirement already satisfied: click>=5.1 in /usr/local/lib/python3.6/dist-packages (from flask>=1.0.2->allennlp) (7.1.1)\n",
            "Requirement already satisfied: urllib3<1.25,>=1.21.1 in /usr/local/lib/python3.6/dist-packages (from requests>=2.18->allennlp) (1.24.3)\n",
            "Requirement already satisfied: idna<2.9,>=2.5 in /usr/local/lib/python3.6/dist-packages (from requests>=2.18->allennlp) (2.8)\n",
            "Requirement already satisfied: certifi>=2017.4.17 in /usr/local/lib/python3.6/dist-packages (from requests>=2.18->allennlp) (2019.11.28)\n",
            "Requirement already satisfied: chardet<3.1.0,>=3.0.2 in /usr/local/lib/python3.6/dist-packages (from requests>=2.18->allennlp) (3.0.4)\n",
            "Requirement already satisfied: six in /usr/local/lib/python3.6/dist-packages (from h5py->allennlp) (1.12.0)\n",
            "Requirement already satisfied: joblib>=0.11 in /usr/local/lib/python3.6/dist-packages (from scikit-learn->allennlp) (0.14.1)\n",
            "Requirement already satisfied: greenlet>=0.4.14; platform_python_implementation == \"CPython\" in /usr/local/lib/python3.6/dist-packages (from gevent>=1.3.6->allennlp) (0.4.15)\n",
            "Requirement already satisfied: jmespath<1.0.0,>=0.7.1 in /usr/local/lib/python3.6/dist-packages (from boto3->allennlp) (0.9.5)\n",
            "Requirement already satisfied: botocore<1.16.0,>=1.15.35 in /usr/local/lib/python3.6/dist-packages (from boto3->allennlp) (1.15.35)\n",
            "Requirement already satisfied: s3transfer<0.4.0,>=0.3.0 in /usr/local/lib/python3.6/dist-packages (from boto3->allennlp) (0.3.3)\n",
            "Requirement already satisfied: wcwidth in /usr/local/lib/python3.6/dist-packages (from ftfy->allennlp) (0.1.9)\n",
            "Requirement already satisfied: thinc<7.1.0,>=7.0.8 in /usr/local/lib/python3.6/dist-packages (from spacy<2.2,>=2.1.0->allennlp) (7.0.8)\n",
            "Requirement already satisfied: srsly<1.1.0,>=0.0.6 in /usr/local/lib/python3.6/dist-packages (from spacy<2.2,>=2.1.0->allennlp) (1.0.2)\n",
            "Requirement already satisfied: cymem<2.1.0,>=2.0.2 in /usr/local/lib/python3.6/dist-packages (from spacy<2.2,>=2.1.0->allennlp) (2.0.3)\n",
            "Requirement already satisfied: preshed<2.1.0,>=2.0.1 in /usr/local/lib/python3.6/dist-packages (from spacy<2.2,>=2.1.0->allennlp) (2.0.1)\n",
            "Requirement already satisfied: wasabi<1.1.0,>=0.2.0 in /usr/local/lib/python3.6/dist-packages (from spacy<2.2,>=2.1.0->allennlp) (0.6.0)\n",
            "Requirement already satisfied: blis<0.3.0,>=0.2.2 in /usr/local/lib/python3.6/dist-packages (from spacy<2.2,>=2.1.0->allennlp) (0.2.4)\n",
            "Requirement already satisfied: murmurhash<1.1.0,>=0.28.0 in /usr/local/lib/python3.6/dist-packages (from spacy<2.2,>=2.1.0->allennlp) (1.0.2)\n",
            "Requirement already satisfied: plac<1.0.0,>=0.9.6 in /usr/local/lib/python3.6/dist-packages (from spacy<2.2,>=2.1.0->allennlp) (0.9.6)\n",
            "Requirement already satisfied: sphinx>=1.6.5 in /usr/local/lib/python3.6/dist-packages (from numpydoc>=0.8.0->allennlp) (1.8.5)\n",
            "Requirement already satisfied: python-dateutil>=2.1 in /usr/local/lib/python3.6/dist-packages (from matplotlib>=2.2.3->allennlp) (2.8.1)\n",
            "Requirement already satisfied: cycler>=0.10 in /usr/local/lib/python3.6/dist-packages (from matplotlib>=2.2.3->allennlp) (0.10.0)\n",
            "Requirement already satisfied: kiwisolver>=1.0.1 in /usr/local/lib/python3.6/dist-packages (from matplotlib>=2.2.3->allennlp) (1.2.0)\n",
            "Requirement already satisfied: pyparsing!=2.0.4,!=2.1.2,!=2.1.6,>=2.0.1 in /usr/local/lib/python3.6/dist-packages (from matplotlib>=2.2.3->allennlp) (2.4.6)\n",
            "Requirement already satisfied: sentencepiece in /usr/local/lib/python3.6/dist-packages (from pytorch-transformers==1.1.0->allennlp) (0.1.85)\n",
            "Requirement already satisfied: regex in /usr/local/lib/python3.6/dist-packages (from pytorch-transformers==1.1.0->allennlp) (2019.12.20)\n",
            "Requirement already satisfied: atomicwrites>=1.0 in /usr/local/lib/python3.6/dist-packages (from pytest->allennlp) (1.3.0)\n",
            "Requirement already satisfied: setuptools in /usr/local/lib/python3.6/dist-packages (from pytest->allennlp) (46.1.3)\n",
            "Requirement already satisfied: py>=1.5.0 in /usr/local/lib/python3.6/dist-packages (from pytest->allennlp) (1.8.1)\n",
            "Requirement already satisfied: pluggy<0.8,>=0.5 in /usr/local/lib/python3.6/dist-packages (from pytest->allennlp) (0.7.1)\n",
            "Requirement already satisfied: attrs>=17.4.0 in /usr/local/lib/python3.6/dist-packages (from pytest->allennlp) (19.3.0)\n",
            "Requirement already satisfied: more-itertools>=4.0.0 in /usr/local/lib/python3.6/dist-packages (from pytest->allennlp) (8.2.0)\n",
            "Requirement already satisfied: protobuf>=3.8.0 in /usr/local/lib/python3.6/dist-packages (from tensorboardX>=1.2->allennlp) (3.10.0)\n",
            "Requirement already satisfied: MarkupSafe>=0.23 in /usr/local/lib/python3.6/dist-packages (from Jinja2>=2.10.1->flask>=1.0.2->allennlp) (1.1.1)\n",
            "Requirement already satisfied: docutils<0.16,>=0.10 in /usr/local/lib/python3.6/dist-packages (from botocore<1.16.0,>=1.15.35->boto3->allennlp) (0.15.2)\n",
            "Requirement already satisfied: snowballstemmer>=1.1 in /usr/local/lib/python3.6/dist-packages (from sphinx>=1.6.5->numpydoc>=0.8.0->allennlp) (2.0.0)\n",
            "Requirement already satisfied: alabaster<0.8,>=0.7 in /usr/local/lib/python3.6/dist-packages (from sphinx>=1.6.5->numpydoc>=0.8.0->allennlp) (0.7.12)\n",
            "Requirement already satisfied: packaging in /usr/local/lib/python3.6/dist-packages (from sphinx>=1.6.5->numpydoc>=0.8.0->allennlp) (20.3)\n",
            "Requirement already satisfied: sphinxcontrib-websupport in /usr/local/lib/python3.6/dist-packages (from sphinx>=1.6.5->numpydoc>=0.8.0->allennlp) (1.2.1)\n",
            "Requirement already satisfied: babel!=2.0,>=1.3 in /usr/local/lib/python3.6/dist-packages (from sphinx>=1.6.5->numpydoc>=0.8.0->allennlp) (2.8.0)\n",
            "Requirement already satisfied: Pygments>=2.0 in /usr/local/lib/python3.6/dist-packages (from sphinx>=1.6.5->numpydoc>=0.8.0->allennlp) (2.1.3)\n",
            "Requirement already satisfied: imagesize in /usr/local/lib/python3.6/dist-packages (from sphinx>=1.6.5->numpydoc>=0.8.0->allennlp) (1.2.0)\n"
          ],
          "name": "stdout"
        }
      ]
    },
    {
      "cell_type": "markdown",
      "metadata": {
        "id": "pc6iySYPzDST",
        "colab_type": "text"
      },
      "source": [
        "### ELMoForManyLangsを利用\n",
        "https://github.com/HIT-SCIR/ELMoForManyLangs#use-elmoformanylangs-programmatically"
      ]
    },
    {
      "cell_type": "code",
      "metadata": {
        "id": "ZwSUDZyVzph-",
        "colab_type": "code",
        "outputId": "3995fb4c-6dac-4c6c-bd5c-fb344203071e",
        "colab": {
          "base_uri": "https://localhost:8080/",
          "height": 55
        }
      },
      "source": [
        "from google.colab import drive\n",
        "drive.mount('/content/drive')"
      ],
      "execution_count": 8,
      "outputs": [
        {
          "output_type": "stream",
          "text": [
            "Drive already mounted at /content/drive; to attempt to forcibly remount, call drive.mount(\"/content/drive\", force_remount=True).\n"
          ],
          "name": "stdout"
        }
      ]
    },
    {
      "cell_type": "code",
      "metadata": {
        "id": "J0uok2UMXl4H",
        "colab_type": "code",
        "colab": {
          "base_uri": "https://localhost:8080/",
          "height": 35
        },
        "outputId": "1a2fbae0-58aa-4a49-afe7-20e837b65895"
      },
      "source": [
        "cd drive/My Drive/機械学習練習/全文検索エンジン作成"
      ],
      "execution_count": 9,
      "outputs": [
        {
          "output_type": "stream",
          "text": [
            "/content/drive/My Drive/機械学習練習/全文検索エンジン作成\n"
          ],
          "name": "stdout"
        }
      ]
    },
    {
      "cell_type": "code",
      "metadata": {
        "id": "9N2xlKx50Bwa",
        "colab_type": "code",
        "outputId": "82b7a770-e83a-4d31-89ad-dc77bec9a53a",
        "colab": {
          "base_uri": "https://localhost:8080/",
          "height": 161
        }
      },
      "source": [
        "!ls"
      ],
      "execution_count": 10,
      "outputs": [
        {
          "output_type": "stream",
          "text": [
            "build\t\t\t   exports\n",
            "configs\t\t\t   faiss-gpu-1.4.0-py36_cuda9.2.148_1.tar.bz2\n",
            "datasets\t\t   info\n",
            "dist\t\t\t   lib\n",
            "elmoformanylangs\t   mecab-ipadic-neologd\n",
            "elmoformanylangs.egg-info  README.md\n",
            "elmo_search_engine.ipynb   setup.py\n",
            "embedding\n"
          ],
          "name": "stdout"
        }
      ]
    },
    {
      "cell_type": "code",
      "metadata": {
        "id": "v1jpnHe4yJQU",
        "colab_type": "code",
        "outputId": "28e5d020-c891-4fdc-dbac-f1e7d844bf53",
        "colab": {
          "base_uri": "https://localhost:8080/",
          "height": 1000
        }
      },
      "source": [
        "# ELMoForManyLangsのセットアップ\n",
        "!python setup.py install"
      ],
      "execution_count": 11,
      "outputs": [
        {
          "output_type": "stream",
          "text": [
            "running install\n",
            "running bdist_egg\n",
            "running egg_info\n",
            "writing elmoformanylangs.egg-info/PKG-INFO\n",
            "writing dependency_links to elmoformanylangs.egg-info/dependency_links.txt\n",
            "writing requirements to elmoformanylangs.egg-info/requires.txt\n",
            "writing top-level names to elmoformanylangs.egg-info/top_level.txt\n",
            "reading manifest file 'elmoformanylangs.egg-info/SOURCES.txt'\n",
            "writing manifest file 'elmoformanylangs.egg-info/SOURCES.txt'\n",
            "installing library code to build/bdist.linux-x86_64/egg\n",
            "running install_lib\n",
            "running build_py\n",
            "creating build/bdist.linux-x86_64/egg\n",
            "creating build/bdist.linux-x86_64/egg/elmoformanylangs\n",
            "copying build/lib/elmoformanylangs/frontend.py -> build/bdist.linux-x86_64/egg/elmoformanylangs\n",
            "copying build/lib/elmoformanylangs/__init__.py -> build/bdist.linux-x86_64/egg/elmoformanylangs\n",
            "copying build/lib/elmoformanylangs/elmo.py -> build/bdist.linux-x86_64/egg/elmoformanylangs\n",
            "copying build/lib/elmoformanylangs/utils.py -> build/bdist.linux-x86_64/egg/elmoformanylangs\n",
            "copying build/lib/elmoformanylangs/dataloader.py -> build/bdist.linux-x86_64/egg/elmoformanylangs\n",
            "copying build/lib/elmoformanylangs/biLM.py -> build/bdist.linux-x86_64/egg/elmoformanylangs\n",
            "copying build/lib/elmoformanylangs/__main__.py -> build/bdist.linux-x86_64/egg/elmoformanylangs\n",
            "creating build/bdist.linux-x86_64/egg/elmoformanylangs/modules\n",
            "copying build/lib/elmoformanylangs/modules/classify_layer.py -> build/bdist.linux-x86_64/egg/elmoformanylangs/modules\n",
            "copying build/lib/elmoformanylangs/modules/elmo.py -> build/bdist.linux-x86_64/egg/elmoformanylangs/modules\n",
            "copying build/lib/elmoformanylangs/modules/util.py -> build/bdist.linux-x86_64/egg/elmoformanylangs/modules\n",
            "copying build/lib/elmoformanylangs/modules/embedding_layer.py -> build/bdist.linux-x86_64/egg/elmoformanylangs/modules\n",
            "copying build/lib/elmoformanylangs/modules/token_embedder.py -> build/bdist.linux-x86_64/egg/elmoformanylangs/modules\n",
            "copying build/lib/elmoformanylangs/modules/__init__.py -> build/bdist.linux-x86_64/egg/elmoformanylangs/modules\n",
            "copying build/lib/elmoformanylangs/modules/lstm.py -> build/bdist.linux-x86_64/egg/elmoformanylangs/modules\n",
            "copying build/lib/elmoformanylangs/modules/encoder_base.py -> build/bdist.linux-x86_64/egg/elmoformanylangs/modules\n",
            "copying build/lib/elmoformanylangs/modules/highway.py -> build/bdist.linux-x86_64/egg/elmoformanylangs/modules\n",
            "copying build/lib/elmoformanylangs/modules/lstm_cell_with_projection.py -> build/bdist.linux-x86_64/egg/elmoformanylangs/modules\n",
            "byte-compiling build/bdist.linux-x86_64/egg/elmoformanylangs/frontend.py to frontend.cpython-36.pyc\n",
            "byte-compiling build/bdist.linux-x86_64/egg/elmoformanylangs/__init__.py to __init__.cpython-36.pyc\n",
            "byte-compiling build/bdist.linux-x86_64/egg/elmoformanylangs/elmo.py to elmo.cpython-36.pyc\n",
            "byte-compiling build/bdist.linux-x86_64/egg/elmoformanylangs/utils.py to utils.cpython-36.pyc\n",
            "byte-compiling build/bdist.linux-x86_64/egg/elmoformanylangs/dataloader.py to dataloader.cpython-36.pyc\n",
            "byte-compiling build/bdist.linux-x86_64/egg/elmoformanylangs/biLM.py to biLM.cpython-36.pyc\n",
            "byte-compiling build/bdist.linux-x86_64/egg/elmoformanylangs/__main__.py to __main__.cpython-36.pyc\n",
            "byte-compiling build/bdist.linux-x86_64/egg/elmoformanylangs/modules/classify_layer.py to classify_layer.cpython-36.pyc\n",
            "byte-compiling build/bdist.linux-x86_64/egg/elmoformanylangs/modules/elmo.py to elmo.cpython-36.pyc\n",
            "byte-compiling build/bdist.linux-x86_64/egg/elmoformanylangs/modules/util.py to util.cpython-36.pyc\n",
            "byte-compiling build/bdist.linux-x86_64/egg/elmoformanylangs/modules/embedding_layer.py to embedding_layer.cpython-36.pyc\n",
            "byte-compiling build/bdist.linux-x86_64/egg/elmoformanylangs/modules/token_embedder.py to token_embedder.cpython-36.pyc\n",
            "byte-compiling build/bdist.linux-x86_64/egg/elmoformanylangs/modules/__init__.py to __init__.cpython-36.pyc\n",
            "byte-compiling build/bdist.linux-x86_64/egg/elmoformanylangs/modules/lstm.py to lstm.cpython-36.pyc\n",
            "byte-compiling build/bdist.linux-x86_64/egg/elmoformanylangs/modules/encoder_base.py to encoder_base.cpython-36.pyc\n",
            "byte-compiling build/bdist.linux-x86_64/egg/elmoformanylangs/modules/highway.py to highway.cpython-36.pyc\n",
            "byte-compiling build/bdist.linux-x86_64/egg/elmoformanylangs/modules/lstm_cell_with_projection.py to lstm_cell_with_projection.cpython-36.pyc\n",
            "creating build/bdist.linux-x86_64/egg/EGG-INFO\n",
            "copying elmoformanylangs.egg-info/PKG-INFO -> build/bdist.linux-x86_64/egg/EGG-INFO\n",
            "copying elmoformanylangs.egg-info/SOURCES.txt -> build/bdist.linux-x86_64/egg/EGG-INFO\n",
            "copying elmoformanylangs.egg-info/dependency_links.txt -> build/bdist.linux-x86_64/egg/EGG-INFO\n",
            "copying elmoformanylangs.egg-info/requires.txt -> build/bdist.linux-x86_64/egg/EGG-INFO\n",
            "copying elmoformanylangs.egg-info/top_level.txt -> build/bdist.linux-x86_64/egg/EGG-INFO\n",
            "zip_safe flag not set; analyzing archive contents...\n",
            "creating 'dist/elmoformanylangs-0.0.2-py3.6.egg' and adding 'build/bdist.linux-x86_64/egg' to it\n",
            "removing 'build/bdist.linux-x86_64/egg' (and everything under it)\n",
            "Processing elmoformanylangs-0.0.2-py3.6.egg\n",
            "Removing /usr/local/lib/python3.6/dist-packages/elmoformanylangs-0.0.2-py3.6.egg\n",
            "Copying elmoformanylangs-0.0.2-py3.6.egg to /usr/local/lib/python3.6/dist-packages\n",
            "elmoformanylangs 0.0.2 is already the active version in easy-install.pth\n",
            "\n",
            "Installed /usr/local/lib/python3.6/dist-packages/elmoformanylangs-0.0.2-py3.6.egg\n",
            "Processing dependencies for elmoformanylangs==0.0.2\n",
            "Searching for overrides==2.8.0\n",
            "Best match: overrides 2.8.0\n",
            "Adding overrides 2.8.0 to easy-install.pth file\n",
            "\n",
            "Using /usr/local/lib/python3.6/dist-packages\n",
            "Searching for numpy==1.18.2\n",
            "Best match: numpy 1.18.2\n",
            "Adding numpy 1.18.2 to easy-install.pth file\n",
            "Installing f2py script to /usr/local/bin\n",
            "Installing f2py3 script to /usr/local/bin\n",
            "Installing f2py3.6 script to /usr/local/bin\n",
            "\n",
            "Using /usr/local/lib/python3.6/dist-packages\n",
            "Searching for h5py==2.10.0\n",
            "Best match: h5py 2.10.0\n",
            "Adding h5py 2.10.0 to easy-install.pth file\n",
            "\n",
            "Using /usr/local/lib/python3.6/dist-packages\n",
            "Searching for torch==1.4.0\n",
            "Best match: torch 1.4.0\n",
            "Adding torch 1.4.0 to easy-install.pth file\n",
            "Installing convert-caffe2-to-onnx script to /usr/local/bin\n",
            "Installing convert-onnx-to-caffe2 script to /usr/local/bin\n",
            "\n",
            "Using /usr/local/lib/python3.6/dist-packages\n",
            "Searching for six==1.12.0\n",
            "Best match: six 1.12.0\n",
            "Adding six 1.12.0 to easy-install.pth file\n",
            "\n",
            "Using /usr/local/lib/python3.6/dist-packages\n",
            "Finished processing dependencies for elmoformanylangs==0.0.2\n"
          ],
          "name": "stdout"
        }
      ]
    },
    {
      "cell_type": "code",
      "metadata": {
        "id": "4F3xyImkVgfC",
        "colab_type": "code",
        "colab": {}
      },
      "source": [
        "from elmoformanylangs import Embedder"
      ],
      "execution_count": 0,
      "outputs": []
    },
    {
      "cell_type": "code",
      "metadata": {
        "id": "SmGbrndUaptq",
        "colab_type": "code",
        "colab": {}
      },
      "source": [
        "def time_watch(func):\n",
        "    \"\"\"時間計測用デコレータ関数\n",
        "    \n",
        "    Parameters\n",
        "    -----\n",
        "    func : function\n",
        "        実行したい関数\n",
        "\n",
        "    \"\"\"\n",
        "    import functools\n",
        "    import datetime\n",
        "    @functools.wraps(func)\n",
        "    def wrapper(*args, **kwargs):\n",
        "        start = datetime.datetime.today()\n",
        "        result = func(*args, **kwargs)\n",
        "        end = datetime.datetime.today()\n",
        "        print(\"実行時間:{time}\".format(time=end - start))\n",
        "        return result\n",
        "    return wrapper"
      ],
      "execution_count": 0,
      "outputs": []
    },
    {
      "cell_type": "markdown",
      "metadata": {
        "id": "7XNO5Bro3xyo",
        "colab_type": "text"
      },
      "source": [
        "### 日本語の事前学習済み重みのダウンロード\n",
        "embeddingディレクトに格納した<br>\n",
        "https://qiita.com/mkt3/items/9577b63900109ff91665\n"
      ]
    },
    {
      "cell_type": "code",
      "metadata": {
        "id": "UyGx9QcQ0Mtx",
        "colab_type": "code",
        "colab": {}
      },
      "source": [
        "# モデルのディレクトリ\n",
        "MODEL_DIR = './embedding/word_unit_embedding_model/'"
      ],
      "execution_count": 0,
      "outputs": []
    },
    {
      "cell_type": "code",
      "metadata": {
        "id": "c-ZPRGHK3Ykg",
        "colab_type": "code",
        "outputId": "f77c2fdf-8873-4a78-e9ba-63a3d250c139",
        "colab": {
          "base_uri": "https://localhost:8080/",
          "height": 323
        }
      },
      "source": [
        "!nvidia-smi"
      ],
      "execution_count": 15,
      "outputs": [
        {
          "output_type": "stream",
          "text": [
            "Thu Apr  9 15:12:48 2020       \n",
            "+-----------------------------------------------------------------------------+\n",
            "| NVIDIA-SMI 440.64.00    Driver Version: 418.67       CUDA Version: 10.1     |\n",
            "|-------------------------------+----------------------+----------------------+\n",
            "| GPU  Name        Persistence-M| Bus-Id        Disp.A | Volatile Uncorr. ECC |\n",
            "| Fan  Temp  Perf  Pwr:Usage/Cap|         Memory-Usage | GPU-Util  Compute M. |\n",
            "|===============================+======================+======================|\n",
            "|   0  Tesla P100-PCIE...  Off  | 00000000:00:04.0 Off |                    0 |\n",
            "| N/A   35C    P0    26W / 250W |      0MiB / 16280MiB |      0%      Default |\n",
            "+-------------------------------+----------------------+----------------------+\n",
            "                                                                               \n",
            "+-----------------------------------------------------------------------------+\n",
            "| Processes:                                                       GPU Memory |\n",
            "|  GPU       PID   Type   Process name                             Usage      |\n",
            "|=============================================================================|\n",
            "|  No running processes found                                                 |\n",
            "+-----------------------------------------------------------------------------+\n"
          ],
          "name": "stdout"
        }
      ]
    },
    {
      "cell_type": "code",
      "metadata": {
        "id": "o8H0PcnS43bB",
        "colab_type": "code",
        "outputId": "e6147df6-5626-43fb-87bd-13af0e69954a",
        "colab": {
          "base_uri": "https://localhost:8080/",
          "height": 575
        }
      },
      "source": [
        "# batch_sizeは環境に合わせて変更（時間帯によってcolaboratoryのGPUの性能が変わるため）\n",
        "elmo_model = Embedder(MODEL_DIR, batch_size=5)"
      ],
      "execution_count": 16,
      "outputs": [
        {
          "output_type": "stream",
          "text": [
            "2020-04-09 15:12:52,650 INFO: word embedding size: 387179\n",
            "2020-04-09 15:13:00,274 INFO: Model(\n",
            "  (token_embedder): ConvTokenEmbedder(\n",
            "    (word_emb_layer): EmbeddingLayer(\n",
            "      (embedding): Embedding(387179, 100, padding_idx=3)\n",
            "    )\n",
            "    (projection): Linear(in_features=100, out_features=512, bias=True)\n",
            "  )\n",
            "  (encoder): ElmobiLm(\n",
            "    (forward_layer_0): LstmCellWithProjection(\n",
            "      (input_linearity): Linear(in_features=512, out_features=16384, bias=False)\n",
            "      (state_linearity): Linear(in_features=512, out_features=16384, bias=True)\n",
            "      (state_projection): Linear(in_features=4096, out_features=512, bias=False)\n",
            "    )\n",
            "    (backward_layer_0): LstmCellWithProjection(\n",
            "      (input_linearity): Linear(in_features=512, out_features=16384, bias=False)\n",
            "      (state_linearity): Linear(in_features=512, out_features=16384, bias=True)\n",
            "      (state_projection): Linear(in_features=4096, out_features=512, bias=False)\n",
            "    )\n",
            "    (forward_layer_1): LstmCellWithProjection(\n",
            "      (input_linearity): Linear(in_features=512, out_features=16384, bias=False)\n",
            "      (state_linearity): Linear(in_features=512, out_features=16384, bias=True)\n",
            "      (state_projection): Linear(in_features=4096, out_features=512, bias=False)\n",
            "    )\n",
            "    (backward_layer_1): LstmCellWithProjection(\n",
            "      (input_linearity): Linear(in_features=512, out_features=16384, bias=False)\n",
            "      (state_linearity): Linear(in_features=512, out_features=16384, bias=True)\n",
            "      (state_projection): Linear(in_features=4096, out_features=512, bias=False)\n",
            "    )\n",
            "  )\n",
            ")\n"
          ],
          "name": "stderr"
        }
      ]
    },
    {
      "cell_type": "markdown",
      "metadata": {
        "id": "fO0gEqVCbS_k",
        "colab_type": "text"
      },
      "source": [
        "### 入力文書の前処理を定義"
      ]
    },
    {
      "cell_type": "code",
      "metadata": {
        "id": "Hlt27ZGpOsfI",
        "colab_type": "code",
        "colab": {}
      },
      "source": [
        "def is_stop_word(pos):\n",
        "    \"\"\"\n",
        "    品詞からストップワードか判断\n",
        "\n",
        "    Parameters\n",
        "    -----\n",
        "    pos : string\n",
        "        品詞\n",
        "\n",
        "    Returns\n",
        "    -----\n",
        "    stop_word_flag : boolean\n",
        "    \"\"\"\n",
        "    stop_word_list = [\"助詞\", \"助動詞\", \"記号\", \"BOS/EOS\"]\n",
        "    stop_word_flag = True\n",
        "    if pos in stop_word_list:\n",
        "        stop_word_flag = False\n",
        "    return stop_word_flag\n",
        "\n",
        "def split_text(text):\n",
        "    \"\"\"\n",
        "    文章をわかち書きする\n",
        "\n",
        "    Parameters\n",
        "    -----\n",
        "    text : string\n",
        "\n",
        "    Returns\n",
        "    -----\n",
        "    result : list of string\n",
        "    \"\"\"\n",
        "    result = []\n",
        "    node = m_neologd.parseToNode(text)\n",
        "    while node:\n",
        "        if is_stop_word(node.feature.split(\",\")[0]):\n",
        "            result.append(node.surface)\n",
        "        node = node.next\n",
        "    return result"
      ],
      "execution_count": 0,
      "outputs": []
    },
    {
      "cell_type": "code",
      "metadata": {
        "id": "qVkV9YQ_b3-d",
        "colab_type": "code",
        "colab": {}
      },
      "source": [
        "def preprocessing_documents(documents):\n",
        "    \"\"\"\n",
        "    文書をELMo用に前処理\n",
        "\n",
        "    Parameters\n",
        "    -----\n",
        "    documents : list of string\n",
        "\n",
        "    Returns\n",
        "    -----\n",
        "    results : list of list of string\n",
        "    \"\"\"\n",
        "    results = []\n",
        "    # バグ対処\n",
        "    m_neologd.parse('')\n",
        "    for document in documents:\n",
        "        result = split_text(document)\n",
        "        results.append(result)\n",
        "    return results"
      ],
      "execution_count": 0,
      "outputs": []
    },
    {
      "cell_type": "code",
      "metadata": {
        "id": "1360bG2u6vFP",
        "colab_type": "code",
        "colab": {}
      },
      "source": [
        "elmo_sample_docments = [\"私は犬\", \"犬は私\", \"今日の天気は雪のち晴れです\"]"
      ],
      "execution_count": 0,
      "outputs": []
    },
    {
      "cell_type": "code",
      "metadata": {
        "id": "E907gv9ydcpT",
        "colab_type": "code",
        "outputId": "f5994280-2e46-4a4e-fa37-6a0d238b52c0",
        "colab": {
          "base_uri": "https://localhost:8080/",
          "height": 35
        }
      },
      "source": [
        "proc_documents = preprocessing_documents(elmo_sample_docments)\n",
        "proc_documents"
      ],
      "execution_count": 20,
      "outputs": [
        {
          "output_type": "execute_result",
          "data": {
            "text/plain": [
              "[['私', '犬'], ['犬', '私'], ['今日の天気', '雪', 'のち', '晴れ']]"
            ]
          },
          "metadata": {
            "tags": []
          },
          "execution_count": 20
        }
      ]
    },
    {
      "cell_type": "markdown",
      "metadata": {
        "id": "QI6HeGj7dqmq",
        "colab_type": "text"
      },
      "source": [
        "### ELMoで単語の分散表現を予測"
      ]
    },
    {
      "cell_type": "code",
      "metadata": {
        "id": "G5B0m5XTa3gS",
        "colab_type": "code",
        "colab": {}
      },
      "source": [
        "@time_watch\n",
        "def predict_word_vec(model, proc_documents):\n",
        "    \"\"\"\n",
        "    モデルを使い単語の分散表現を予測\n",
        "\n",
        "    Parmeters\n",
        "    -----\n",
        "    model : model_obj\n",
        "    proc_documents : proc_documents_obj\n",
        "    \n",
        "    Returns\n",
        "    -----\n",
        "    pred_vector : list of nparray\n",
        "    \"\"\"\n",
        "    pred_vector = model.sents2elmo(proc_documents)\n",
        "    return pred_vector"
      ],
      "execution_count": 0,
      "outputs": []
    },
    {
      "cell_type": "code",
      "metadata": {
        "id": "2Ty2wsybelNx",
        "colab_type": "code",
        "outputId": "60db1f28-f39e-4ef0-f2f3-73ba98ae9379",
        "colab": {
          "base_uri": "https://localhost:8080/",
          "height": 53
        }
      },
      "source": [
        "documnets_words_vec = predict_word_vec(elmo_model, proc_documents)"
      ],
      "execution_count": 22,
      "outputs": [
        {
          "output_type": "stream",
          "text": [
            "2020-04-09 15:13:00,952 INFO: 1 batches, avg len: 4.7\n"
          ],
          "name": "stderr"
        },
        {
          "output_type": "stream",
          "text": [
            "実行時間:0:00:00.030923\n"
          ],
          "name": "stdout"
        }
      ]
    },
    {
      "cell_type": "code",
      "metadata": {
        "id": "xVaOp2RkeqW6",
        "colab_type": "code",
        "outputId": "d6cfbb39-ba65-4b32-c4ab-aa7970696769",
        "colab": {
          "base_uri": "https://localhost:8080/",
          "height": 341
        }
      },
      "source": [
        "print(documnets_words_vec[0].shape)\n",
        "print(type(documnets_words_vec[0]))\n",
        "documnets_words_vec"
      ],
      "execution_count": 23,
      "outputs": [
        {
          "output_type": "stream",
          "text": [
            "(2, 1024)\n",
            "<class 'numpy.ndarray'>\n"
          ],
          "name": "stdout"
        },
        {
          "output_type": "execute_result",
          "data": {
            "text/plain": [
              "[array([[-0.3822073 , -0.39298368, -0.19943719, ..., -0.0947518 ,\n",
              "          0.38196918, -0.06013573],\n",
              "        [-0.99855757, -0.7653184 , -0.67188597, ...,  0.38484803,\n",
              "         -0.14899619, -0.22106065]], dtype=float32),\n",
              " array([[-0.85666806, -0.24317439, -0.31542605, ..., -0.16575427,\n",
              "          0.06315442, -0.31759426],\n",
              "        [-0.29320082, -0.47321966, -0.83421296, ..., -0.40913573,\n",
              "          0.21732388,  0.24414034]], dtype=float32),\n",
              " array([[ 0.10117573, -0.23624979,  0.00397639, ..., -0.2328723 ,\n",
              "          0.17794509,  0.0607481 ],\n",
              "        [-0.90098685, -0.80577874, -0.20233335, ...,  0.13288653,\n",
              "          0.4778336 , -0.45927873],\n",
              "        [ 1.2292985 ,  0.98217875, -0.351058  , ...,  0.05930225,\n",
              "          0.5154347 , -0.4115046 ],\n",
              "        [-0.65625954,  1.4385008 , -0.17021495, ..., -0.32545912,\n",
              "          0.10576967,  0.18586273]], dtype=float32)]"
            ]
          },
          "metadata": {
            "tags": []
          },
          "execution_count": 23
        }
      ]
    },
    {
      "cell_type": "markdown",
      "metadata": {
        "id": "CaWcVH_ae3mF",
        "colab_type": "text"
      },
      "source": [
        "#### 実行結果\n",
        "「私は犬」と「犬は私」の２つの文章において、それぞれの文章で「私」「犬」は文章内での順番が考慮され、別々の分散表現が得られていることが分かる。"
      ]
    },
    {
      "cell_type": "markdown",
      "metadata": {
        "id": "xhVSbMxrgneG",
        "colab_type": "text"
      },
      "source": [
        "### 単語ベクトルから文書ベクトルを算出\n",
        "今回は簡易的に、単語ベクトルの合計値を文書ベクトルする<br>"
      ]
    },
    {
      "cell_type": "code",
      "metadata": {
        "id": "cfHwljbaeuDr",
        "colab_type": "code",
        "colab": {}
      },
      "source": [
        "@time_watch\n",
        "def calc_doc_vec(documnets_words_vec):\n",
        "    \"\"\"\n",
        "    単語ベクトルから文書ベクトルを計算\n",
        "\n",
        "    Parameters\n",
        "    -----\n",
        "    documents_word_vec : list of nparray\n",
        "\n",
        "    Returns\n",
        "    -----\n",
        "    documents_vec : ndarray(文書数, 1つの文書内の次元数)\n",
        "\n",
        "    Notes\n",
        "    -----\n",
        "    文書ベクトルの算出方法 : 文書内に含まれる全単語ベクトルの平均値\n",
        "    \"\"\"\n",
        "    documnets_vec = []\n",
        "    for document_words_vec in documnets_words_vec:\n",
        "        document_vec = np.sum(document_words_vec, axis=0) / document_words_vec.shape[0]\n",
        "        documnets_vec.append(document_vec)\n",
        "\n",
        "    documnets_vec = np.array(documnets_vec)\n",
        "    return documnets_vec"
      ],
      "execution_count": 0,
      "outputs": []
    },
    {
      "cell_type": "code",
      "metadata": {
        "id": "Vha-WnrWiZ5Y",
        "colab_type": "code",
        "outputId": "431a49d2-a9ed-4359-edd7-9fb05d4822bd",
        "colab": {
          "base_uri": "https://localhost:8080/",
          "height": 143
        }
      },
      "source": [
        "documnets_vec = calc_doc_vec(documnets_words_vec=documnets_words_vec)\n",
        "documnets_vec"
      ],
      "execution_count": 25,
      "outputs": [
        {
          "output_type": "stream",
          "text": [
            "実行時間:0:00:00.000122\n"
          ],
          "name": "stdout"
        },
        {
          "output_type": "execute_result",
          "data": {
            "text/plain": [
              "array([[-0.6903824 , -0.57915103, -0.43566158, ...,  0.14504811,\n",
              "         0.1164865 , -0.1405982 ],\n",
              "       [-0.5749344 , -0.35819703, -0.5748195 , ..., -0.287445  ,\n",
              "         0.14023915, -0.03672696],\n",
              "       [-0.05669305,  0.34466273, -0.17990749, ..., -0.09153567,\n",
              "         0.31924576, -0.15604313]], dtype=float32)"
            ]
          },
          "metadata": {
            "tags": []
          },
          "execution_count": 25
        }
      ]
    },
    {
      "cell_type": "code",
      "metadata": {
        "id": "1hkwmIrOiaQ2",
        "colab_type": "code",
        "outputId": "ecb88354-f732-411d-9d2b-ff854c01c04f",
        "colab": {
          "base_uri": "https://localhost:8080/",
          "height": 143
        }
      },
      "source": [
        "print(documnets_vec.shape)\n",
        "documnets_vec"
      ],
      "execution_count": 26,
      "outputs": [
        {
          "output_type": "stream",
          "text": [
            "(3, 1024)\n"
          ],
          "name": "stdout"
        },
        {
          "output_type": "execute_result",
          "data": {
            "text/plain": [
              "array([[-0.6903824 , -0.57915103, -0.43566158, ...,  0.14504811,\n",
              "         0.1164865 , -0.1405982 ],\n",
              "       [-0.5749344 , -0.35819703, -0.5748195 , ..., -0.287445  ,\n",
              "         0.14023915, -0.03672696],\n",
              "       [-0.05669305,  0.34466273, -0.17990749, ..., -0.09153567,\n",
              "         0.31924576, -0.15604313]], dtype=float32)"
            ]
          },
          "metadata": {
            "tags": []
          },
          "execution_count": 26
        }
      ]
    },
    {
      "cell_type": "markdown",
      "metadata": {
        "id": "60XiDSOzlnPY",
        "colab_type": "text"
      },
      "source": [
        "## faissのインストール\n",
        "参考：https://qiita.com/SakuraDk/items/0c03b7ebd4aef8d6caed#colaboratory%E4%B8%8A%E3%81%A7%E3%82%A4%E3%83%B3%E3%82%B9%E3%83%88%E3%83%BC%E3%83%AB"
      ]
    },
    {
      "cell_type": "code",
      "metadata": {
        "id": "na-SBzloojyF",
        "colab_type": "code",
        "colab": {}
      },
      "source": [
        "# ダウンロードは一度のみ実行で大丈夫\n",
        "#!wget https://anaconda.org/pytorch/faiss-gpu/1.4.0/download/linux-64/faiss-gpu-1.4.0-py36_cuda9.2.148_1.tar.bz2\n",
        "#!tar xvjf faiss-gpu-1.4.0-py36_cuda9.2.148_1.tar.bz2"
      ],
      "execution_count": 0,
      "outputs": []
    },
    {
      "cell_type": "code",
      "metadata": {
        "id": "qhdztYDUoyMP",
        "colab_type": "code",
        "outputId": "b0fa76dd-5e7e-41d1-9e3a-c5dff408eb46",
        "colab": {
          "base_uri": "https://localhost:8080/",
          "height": 53
        }
      },
      "source": [
        "!cp -r lib/python3.6/site-packages/* /usr/local/lib/python3.6/dist-packages/\n",
        "!pip install mkl"
      ],
      "execution_count": 28,
      "outputs": [
        {
          "output_type": "stream",
          "text": [
            "Requirement already satisfied: mkl in /usr/local/lib/python3.6/dist-packages (2019.0)\n",
            "Requirement already satisfied: intel-openmp in /usr/local/lib/python3.6/dist-packages (from mkl) (2020.0.133)\n"
          ],
          "name": "stdout"
        }
      ]
    },
    {
      "cell_type": "code",
      "metadata": {
        "id": "YIaxLsNbo4ew",
        "colab_type": "code",
        "colab": {}
      },
      "source": [
        "import faiss"
      ],
      "execution_count": 0,
      "outputs": []
    },
    {
      "cell_type": "markdown",
      "metadata": {
        "id": "6Xhc_hqHkYrL",
        "colab_type": "text"
      },
      "source": [
        "## 検索エンジン作成"
      ]
    },
    {
      "cell_type": "markdown",
      "metadata": {
        "id": "Xa6k3IaIptEd",
        "colab_type": "text"
      },
      "source": [
        "### 検索対象となるドキュメント読み込み"
      ]
    },
    {
      "cell_type": "markdown",
      "metadata": {
        "id": "-M1s-kJpVmIF",
        "colab_type": "text"
      },
      "source": [
        "#### ldccデータ用の読み込み関数定義"
      ]
    },
    {
      "cell_type": "code",
      "metadata": {
        "id": "ei3_5d07V1Z3",
        "colab_type": "code",
        "colab": {}
      },
      "source": [
        "def load_path_list(dir_name):\n",
        "   \"\"\"\n",
        "   ディレクトリ配下のパス名取得\n",
        "   \"\"\"\n",
        "   p = pathlib.Path(dir_name)\n",
        "   name_list = list(p.glob(\"*\"))\n",
        "   return name_list"
      ],
      "execution_count": 0,
      "outputs": []
    },
    {
      "cell_type": "code",
      "metadata": {
        "id": "imrbqgYeXmQn",
        "colab_type": "code",
        "colab": {}
      },
      "source": [
        "@time_watch\n",
        "def load_ldcc_to_pd(dir_name):\n",
        "    \"\"\"\n",
        "    ldccデータをDataframeに読み込み\n",
        "\n",
        "    Parameters\n",
        "    -----\n",
        "    dir_name : string\n",
        "\n",
        "    Returns\n",
        "    -----\n",
        "    ldcc_df : Dataframe\n",
        "    \"\"\"\n",
        "    data_path_list = load_path_list(dir_name)\n",
        "    read_message_size = 100\n",
        "    \n",
        "    removefile_path = pathlib.Path(DATA_DIR+'/LICENSE.txt')\n",
        "    # LICENSE.txtファイルは除く\n",
        "    if os.path.isfile(removefile_path):\n",
        "        data_path_list.remove(removefile_path)\n",
        "    print(\"データ件数:{size}\".format(size=len(data_path_list)))\n",
        "\n",
        "    dataset_texts = []\n",
        "    for i, data_path in enumerate(data_path_list):\n",
        "      with open(data_path) as f:\n",
        "        # 末尾の改行コードと一部文字化けを取り除く\n",
        "        data_texts = [s.rstrip().replace('\\u3000','') for s in f.readlines()]\n",
        "      dataset_texts.append(data_texts)\n",
        "      if (i + 1) % read_message_size == 0:\n",
        "        print(\"{i}件ファイルからテキストを読み込み完了\".format(i=i+1))\n",
        "\n",
        "    ldcc_df_columns = ['title', 'url', 'time', 'text']\n",
        "    ldcc_df = pd.DataFrame(index=[], columns=ldcc_df_columns)\n",
        "    for i, data_texts in enumerate(dataset_texts):\n",
        "      title = data_texts[2]\n",
        "      url = data_texts[0]\n",
        "      time = data_texts[1]\n",
        "      text = \"\".join(data_texts[2:])\n",
        "      data_series = pd.Series([title, url, time, text], index=ldcc_df.columns)\n",
        "      ldcc_df = ldcc_df.append(data_series, ignore_index=True)\n",
        "      if (i + 1) % read_message_size == 0:\n",
        "        print(\"{i}件データフレームに読み込み完了\".format(i=i+1))\n",
        "\n",
        "    ldcc_df.index = ldcc_df.index + 1\n",
        "    return ldcc_df"
      ],
      "execution_count": 0,
      "outputs": []
    },
    {
      "cell_type": "code",
      "metadata": {
        "id": "h97GJVF2XcdW",
        "colab_type": "code",
        "outputId": "7fbc7c37-e242-4173-c07d-66459787b2f3",
        "colab": {
          "base_uri": "https://localhost:8080/",
          "height": 869
        }
      },
      "source": [
        "DATA_DIR = \"./datasets/ldcc-20140209\"\n",
        "file_name = \"kaden-channel\"\n",
        "\n",
        "read_file_csv = \"kaden-channel_20200405003708.csv\"\n",
        "read_bk_csv = True\n",
        "\n",
        "if read_bk_csv:\n",
        "    register_documents = pd.read_csv(DATA_DIR + '/' +  read_file_csv, index_col=0)   \n",
        "else:\n",
        "    register_documents = load_ldcc_to_pd(DATA_DIR + '/' + file_name)\n",
        "    # csvファイルに出力\n",
        "    now = datetime.datetime.now().strftime('%Y%m%d%H%M%S')\n",
        "    register_documents.to_csv(DATA_DIR + '/' + file_name + '_' + now + '.csv')\n",
        "\n",
        "register_documents.head(3)"
      ],
      "execution_count": 32,
      "outputs": [
        {
          "output_type": "execute_result",
          "data": {
            "text/html": [
              "<div>\n",
              "<style scoped>\n",
              "    .dataframe tbody tr th:only-of-type {\n",
              "        vertical-align: middle;\n",
              "    }\n",
              "\n",
              "    .dataframe tbody tr th {\n",
              "        vertical-align: top;\n",
              "    }\n",
              "\n",
              "    .dataframe thead th {\n",
              "        text-align: right;\n",
              "    }\n",
              "</style>\n",
              "<table border=\"1\" class=\"dataframe\">\n",
              "  <thead>\n",
              "    <tr style=\"text-align: right;\">\n",
              "      <th></th>\n",
              "      <th>title</th>\n",
              "      <th>url</th>\n",
              "      <th>time</th>\n",
              "      <th>text</th>\n",
              "    </tr>\n",
              "  </thead>\n",
              "  <tbody>\n",
              "    <tr>\n",
              "      <th>1</th>\n",
              "      <td>Hulu、ついに待望のApple TVに対応！一周年記念で「Hulu アンバサダープロジェク...</td>\n",
              "      <td>http://news.livedoor.com/article/detail/6919353/</td>\n",
              "      <td>2012-09-04T17:00:00+0900</td>\n",
              "      <td>Hulu、ついに待望のApple TVに対応！一周年記念で「Hulu アンバサダープロジェク...</td>\n",
              "    </tr>\n",
              "    <tr>\n",
              "      <th>2</th>\n",
              "      <td>【ニュース】電力使用量９日が８社管内で今夏最高</td>\n",
              "      <td>http://news.livedoor.com/article/detail/5774093/</td>\n",
              "      <td>2011-08-10T10:00:00+0900</td>\n",
              "      <td>【ニュース】電力使用量９日が８社管内で今夏最高気温が高い日が続く。特に９日は各地で気温が上が...</td>\n",
              "    </tr>\n",
              "    <tr>\n",
              "      <th>3</th>\n",
              "      <td>【ガイガーカウンター特集】これなら手が届く！2万円以下の家庭用放射線計測器大集合</td>\n",
              "      <td>http://news.livedoor.com/article/detail/5778048/</td>\n",
              "      <td>2011-08-11T15:00:00+0900</td>\n",
              "      <td>【ガイガーカウンター特集】これなら手が届く！2万円以下の家庭用放射線計測器大集合家電チャンネ...</td>\n",
              "    </tr>\n",
              "  </tbody>\n",
              "</table>\n",
              "</div>"
            ],
            "text/plain": [
              "                                               title  ...                                               text\n",
              "1  Hulu、ついに待望のApple TVに対応！一周年記念で「Hulu アンバサダープロジェク...  ...  Hulu、ついに待望のApple TVに対応！一周年記念で「Hulu アンバサダープロジェク...\n",
              "2                            【ニュース】電力使用量９日が８社管内で今夏最高  ...  【ニュース】電力使用量９日が８社管内で今夏最高気温が高い日が続く。特に９日は各地で気温が上が...\n",
              "3           【ガイガーカウンター特集】これなら手が届く！2万円以下の家庭用放射線計測器大集合  ...  【ガイガーカウンター特集】これなら手が届く！2万円以下の家庭用放射線計測器大集合家電チャンネ...\n",
              "\n",
              "[3 rows x 4 columns]"
            ]
          },
          "metadata": {
            "tags": []
          },
          "execution_count": 32
        }
      ]
    },
    {
      "cell_type": "markdown",
      "metadata": {
        "id": "X35eE2IhxT0L",
        "colab_type": "text"
      },
      "source": [
        "### ELMoで文書ベクトルを算出"
      ]
    },
    {
      "cell_type": "code",
      "metadata": {
        "id": "hGKm_QpGBoij",
        "colab_type": "code",
        "outputId": "cd95f41a-5b6b-4f24-e3cd-a14d4bdfa6d0",
        "colab": {
          "base_uri": "https://localhost:8080/",
          "height": 35
        }
      },
      "source": [
        "DATA_DIR = \"./datasets/ldcc-20140209\"\n",
        "file_name = \"kaden-channel\"\n",
        "TEXT_COLUMN = \"text\"\n",
        "\n",
        "read_file_pickle = \"kaden-channel_20200409144950.pkl\"\n",
        "read_bk_pickle = True\n",
        "\n",
        "if read_bk_pickle:\n",
        "    with open(DATA_DIR + '/' + read_file_pickle, 'rb') as f_pkl:\n",
        "       register_documents_vec = pickle.load(f_pkl)\n",
        "else:\n",
        "    register_documents_words_vec = predict_word_vec(elmo_model, register_documents[TEXT_COLUMN].values)\n",
        "    register_documents_vec = calc_doc_vec(register_documents_words_vec)\n",
        "    # pklファイルに出力\n",
        "    now = datetime.datetime.now().strftime('%Y%m%d%H%M%S')\n",
        "    export_pkl_file = DATA_DIR + '/' + file_name + '_' + now + '.pkl'\n",
        "    with open(export_pkl_file, mode='wb') as f:\n",
        "        pickle.dump(register_documents_vec, f)\n",
        "\n",
        "print(\"文書ベクトルの次元数確認{shape}\".format(shape=register_documents_vec.shape))"
      ],
      "execution_count": 33,
      "outputs": [
        {
          "output_type": "stream",
          "text": [
            "文書ベクトルの次元数確認(864, 1024)\n"
          ],
          "name": "stdout"
        }
      ]
    },
    {
      "cell_type": "markdown",
      "metadata": {
        "id": "jQOKqWCe0_pU",
        "colab_type": "text"
      },
      "source": [
        "### Indexを登録する特徴量空間の定義\n",
        "検索アルゴリズムと必要な初期値はこちら参照<br>\n",
        "https://github.com/facebookresearch/faiss/wiki/Faiss-indexes"
      ]
    },
    {
      "cell_type": "code",
      "metadata": {
        "id": "03WIJa2V1HHT",
        "colab_type": "code",
        "colab": {}
      },
      "source": [
        "# 登録するデータ1件分の次元数\n",
        "vector_dim = register_documents_vec.shape[1]\n",
        "# 分割する領域の数\n",
        "voronoi_num = 20\n",
        "# 検索時に含める近傍の領域の数\n",
        "voronoi_near = 10"
      ],
      "execution_count": 0,
      "outputs": []
    },
    {
      "cell_type": "markdown",
      "metadata": {
        "id": "rkEWCl4m7Naz",
        "colab_type": "text"
      },
      "source": [
        "#### 高速な近似アルゴリズムIndeIVFFlatを使用\n",
        "https://github.com/facebookresearch/faiss/wiki/Faster-search"
      ]
    },
    {
      "cell_type": "code",
      "metadata": {
        "id": "8sHCpxjz2r_-",
        "colab_type": "code",
        "colab": {}
      },
      "source": [
        "quantizer = faiss.IndexFlatL2(vector_dim)\n",
        "index = faiss.IndexIVFFlat(quantizer, vector_dim, voronoi_num)"
      ],
      "execution_count": 0,
      "outputs": []
    },
    {
      "cell_type": "markdown",
      "metadata": {
        "id": "WiD-hAM6pV76",
        "colab_type": "text"
      },
      "source": [
        "### Indexへの追加（+ボロノイ領域の学習）"
      ]
    },
    {
      "cell_type": "code",
      "metadata": {
        "id": "rulP2T397slF",
        "colab_type": "code",
        "colab": {}
      },
      "source": [
        "assert not index.is_trained\n",
        "index.train(register_documents_vec)\n",
        "assert index.is_trained"
      ],
      "execution_count": 0,
      "outputs": []
    },
    {
      "cell_type": "code",
      "metadata": {
        "id": "JiHNaJKPACX8",
        "colab_type": "code",
        "outputId": "7e04ddd4-4f9a-42dd-895e-f2cdd5cd0b41",
        "colab": {
          "base_uri": "https://localhost:8080/",
          "height": 53
        }
      },
      "source": [
        "# idの付与\n",
        "ids = np.arange(start=1, stop=register_documents_vec.shape[0]+1)\n",
        "print(\"idsの長さ{size}\".format(size=len(ids)))\n",
        "ids[:5]"
      ],
      "execution_count": 37,
      "outputs": [
        {
          "output_type": "stream",
          "text": [
            "idsの長さ864\n"
          ],
          "name": "stdout"
        },
        {
          "output_type": "execute_result",
          "data": {
            "text/plain": [
              "array([1, 2, 3, 4, 5])"
            ]
          },
          "metadata": {
            "tags": []
          },
          "execution_count": 37
        }
      ]
    },
    {
      "cell_type": "code",
      "metadata": {
        "id": "L0nYgcv4jA5h",
        "colab_type": "code",
        "colab": {}
      },
      "source": [
        "index.add_with_ids(register_documents_vec, ids) "
      ],
      "execution_count": 0,
      "outputs": []
    },
    {
      "cell_type": "markdown",
      "metadata": {
        "id": "BMF4DW_wJvB3",
        "colab_type": "text"
      },
      "source": [
        "#### 結果の保存"
      ]
    },
    {
      "cell_type": "code",
      "metadata": {
        "id": "OMQK6fV4JW_P",
        "colab_type": "code",
        "colab": {}
      },
      "source": [
        "EXPORT_DIR = \"./exports\"\n",
        "now = datetime.datetime.now().strftime('%Y%m%d%H%M%S')"
      ],
      "execution_count": 0,
      "outputs": []
    },
    {
      "cell_type": "code",
      "metadata": {
        "id": "9DkRMnH-JooW",
        "colab_type": "code",
        "colab": {}
      },
      "source": [
        "faiss.write_index(index, EXPORT_DIR + \"/features_\" + now + \".index\")"
      ],
      "execution_count": 0,
      "outputs": []
    },
    {
      "cell_type": "markdown",
      "metadata": {
        "id": "7QjRaPWQKXfg",
        "colab_type": "text"
      },
      "source": [
        "## 検索エンジンにクエリを投げてみる"
      ]
    },
    {
      "cell_type": "markdown",
      "metadata": {
        "id": "9W9rEZvyMWfS",
        "colab_type": "text"
      },
      "source": [
        "#### 質問文の前処理"
      ]
    },
    {
      "cell_type": "code",
      "metadata": {
        "id": "TDa6y-Oj8U5m",
        "colab_type": "code",
        "colab": {}
      },
      "source": [
        "# 質問文\n",
        "queries = [\"新作のカメラに関する記事\", \"Macの新作\", \"コンピュータ\", \"Microsoftに関する記事\"]"
      ],
      "execution_count": 0,
      "outputs": []
    },
    {
      "cell_type": "code",
      "metadata": {
        "id": "tNdkibKg89z4",
        "colab_type": "code",
        "outputId": "c04c3c58-9cad-4e99-be22-6350214227a5",
        "colab": {
          "base_uri": "https://localhost:8080/",
          "height": 89
        }
      },
      "source": [
        "# ELMoで単語ベクトルに変換\n",
        "queries_words_vec = predict_word_vec(elmo_model, queries)\n",
        "# 文書ベクトルに変換\n",
        "queries_vec = calc_doc_vec(queries_words_vec)\n",
        "print(\"入力の次元{shape}\".format(shape=queries_vec.shape))"
      ],
      "execution_count": 42,
      "outputs": [
        {
          "output_type": "stream",
          "text": [
            "2020-04-09 15:13:06,491 INFO: 1 batches, avg len: 11.8\n"
          ],
          "name": "stderr"
        },
        {
          "output_type": "stream",
          "text": [
            "実行時間:0:00:00.053284\n",
            "実行時間:0:00:00.000364\n",
            "入力の次元(4, 1024)\n"
          ],
          "name": "stdout"
        }
      ]
    },
    {
      "cell_type": "markdown",
      "metadata": {
        "id": "j1xnqCIeMVw1",
        "colab_type": "text"
      },
      "source": [
        "#### インデックスから類似文を検索する"
      ]
    },
    {
      "cell_type": "code",
      "metadata": {
        "id": "G_I7pCukP1fA",
        "colab_type": "code",
        "colab": {}
      },
      "source": [
        "@time_watch\n",
        "def search_doc(queries_vec, search_doc_num, index):\n",
        "    \"\"\"\n",
        "    類似文章の検索\n",
        "\n",
        "    Parameters\n",
        "    -----\n",
        "    queries_vec : ndarray\n",
        "    search_doc_num : int\n",
        "        何件分まで検索してくるか\n",
        "    index : index_obj\n",
        "        faissのindexオブジェクト\n",
        "\n",
        "    Returns\n",
        "    -----\n",
        "    D : D_obj\n",
        "    I : I_obj\n",
        "    \"\"\"\n",
        "    d, i = index.search(queries_vec, search_doc_num)\n",
        "    return d, i"
      ],
      "execution_count": 0,
      "outputs": []
    },
    {
      "cell_type": "code",
      "metadata": {
        "id": "OiPszZm1MQeG",
        "colab_type": "code",
        "outputId": "5b9cdad6-1c1a-4f8e-ea95-ae4ea51c4dba",
        "colab": {
          "base_uri": "https://localhost:8080/",
          "height": 107
        }
      },
      "source": [
        "# 取得したい結果の件数を設定\n",
        "search_doc_num = 10\n",
        "\n",
        "results_distances, results_ids = search_doc(queries_vec, search_doc_num, index)\n",
        "print(results_ids)"
      ],
      "execution_count": 44,
      "outputs": [
        {
          "output_type": "stream",
          "text": [
            "実行時間:0:00:00.000374\n",
            "[[364 340 451 653 643 843 435 178 502 414]\n",
            " [446 290 613 272 457 239 604 476 285 639]\n",
            " [577 786  73 353 724 606  78  98 241 790]\n",
            " [446 290 380 285 262 613 449 583 505 272]]\n"
          ],
          "name": "stdout"
        }
      ]
    },
    {
      "cell_type": "code",
      "metadata": {
        "id": "nMFQ-WZ-M4WU",
        "colab_type": "code",
        "outputId": "cdf1e86f-4fb6-4bb7-c500-378816179f2a",
        "colab": {
          "base_uri": "https://localhost:8080/",
          "height": 1000
        }
      },
      "source": [
        "# 結果の描画\n",
        "for i, (result_distances, result_ids) in enumerate(zip(results_distances, results_ids)):\n",
        "\n",
        "    print(\"{i}番目の検索クエリ:{query}\".format(i=i+1, query=queries[i]))\n",
        "    print(\"-----検索結果-----\")\n",
        "\n",
        "    for j, (result_distance, result_id) in enumerate(zip(result_distances, result_ids)):\n",
        "        if result_id != -1:\n",
        "            print(\"第{j}位\\t文書id:{id} 「{title}」 url:（{url}）\"\n",
        "            .format(j=j+1, id=result_id, title=register_documents[\"title\"][result_id], url=register_documents[\"url\"][result_id]))\n",
        "            print(\"\\t（距離{distance})\\n\".format(distance=result_distance))\n",
        "\n",
        "    print(\"-----{i}番目の結果ここまで-----\\n\\n\".format(i=i+1))"
      ],
      "execution_count": 45,
      "outputs": [
        {
          "output_type": "stream",
          "text": [
            "1番目の検索クエリ:新作のカメラに関する記事\n",
            "-----検索結果-----\n",
            "第1位\t文書id:364 「今年のベストセラーはやっぱりジョブズの伝記！でも日本人ってこんなにジョブズ好きだったっけ？【話題】」 url:（http://news.livedoor.com/article/detail/6120464/）\n",
            "\t（距離70.54002380371094)\n",
            "\n",
            "第2位\t文書id:340 「「なんで失恋の歌？」ソニーの「ウォークマンSシリーズ」CMで流れる西野カナの歌声に疑問の声【話題】」 url:（http://news.livedoor.com/article/detail/6110368/）\n",
            "\t（距離73.79080963134766)\n",
            "\n",
            "第3位\t文書id:451 「「嫌だったら出て行け！」マツコの韓流批判にネットは賛成？韓国では「日本文化なくなれ」と大反発！【話題】」 url:（http://news.livedoor.com/article/detail/6180432/）\n",
            "\t（距離74.11204528808594)\n",
            "\n",
            "第4位\t文書id:653 「徹子VSローラ番外編!?ローラがブログで徹子をディスった？【話題】」 url:（http://news.livedoor.com/article/detail/6417585/）\n",
            "\t（距離74.48051452636719)\n",
            "\n",
            "第5位\t文書id:643 「テレビ業界が迷走中・・・課題を抱えたスマートテレビの普及はどうなる？【話題】」 url:（http://news.livedoor.com/article/detail/6402258/）\n",
            "\t（距離74.60359191894531)\n",
            "\n",
            "第6位\t文書id:843 「感覚・体験を共有するタッチ・インターネットが拓く未来（完）【テレスコープマガジン】」 url:（http://news.livedoor.com/article/detail/6883140/）\n",
            "\t（距離74.79005432128906)\n",
            "\n",
            "第7位\t文書id:435 「次はアップルは何をする？今月末の発表会でのテーマは「メディア関係」−セルフパブリッシングについてとの噂も【話題】」 url:（http://news.livedoor.com/article/detail/6165237/）\n",
            "\t（距離74.86004638671875)\n",
            "\n",
            "第8位\t文書id:178 「ミラーレス一眼のメリット・デメリットとは？【いまさら聞けないデジカメ】」 url:（http://news.livedoor.com/article/detail/5989911/）\n",
            "\t（距離74.92015075683594)\n",
            "\n",
            "第9位\t文書id:502 「使い方が想像できないと話題！Googleショッピングで販売中のミシンがすごい【話題】」 url:（http://news.livedoor.com/article/detail/6231489/）\n",
            "\t（距離74.94263458251953)\n",
            "\n",
            "第10位\t文書id:414 「アプリでカタログをもっと楽しめる！開発秘話も読めるデジカメ「NEX-7」専用のARアプリ登場【話題】」 url:（http://news.livedoor.com/article/detail/6155115/）\n",
            "\t（距離75.13227844238281)\n",
            "\n",
            "-----1番目の結果ここまで-----\n",
            "\n",
            "\n",
            "2番目の検索クエリ:Macの新作\n",
            "-----検索結果-----\n",
            "第1位\t文書id:446 「ウィンドウズ版のDaVinci Resolve8.2 のパブリックベータ版がダウンロード可能に【ビデオSALON】」 url:（http://news.livedoor.com/article/detail/6182727/）\n",
            "\t（距離110.25978088378906)\n",
            "\n",
            "第2位\t文書id:290 「連載●一眼流映像表現術 第21回【ビデオSALON】」 url:（http://news.livedoor.com/article/detail/6086124/）\n",
            "\t（距離110.39505004882812)\n",
            "\n",
            "第3位\t文書id:613 「2012年３月号「音の編集講座」BGM【ビデオSALON】」 url:（http://news.livedoor.com/article/detail/6349737/）\n",
            "\t（距離110.85701751708984)\n",
            "\n",
            "第4位\t文書id:272 「11月号記事連動「音の編集講座」〜ピッチとスピード【ビデオSALON】」 url:（http://news.livedoor.com/article/detail/6072795/）\n",
            "\t（距離110.8621597290039)\n",
            "\n",
            "第5位\t文書id:457 「編集特集・ナレーションテスト【ビデオSALON】」 url:（http://news.livedoor.com/article/detail/6187777/）\n",
            "\t（距離111.3676986694336)\n",
            "\n",
            "第6位\t文書id:239 「セミナーレポート 「EOS MOVIEセミナー〜EOS MOVIEで広がる映像の世界」【ビデオSALON】」 url:（http://news.livedoor.com/article/detail/6054293/）\n",
            "\t（距離111.47373962402344)\n",
            "\n",
            "第7位\t文書id:604 「タムロンのEマウントレンズを純正レンズと比べてみた【ビデオSALON】」 url:（http://news.livedoor.com/article/detail/6339307/）\n",
            "\t（距離111.54114532470703)\n",
            "\n",
            "第8位\t文書id:476 「音の編集講座「ステレオとモノラル」【ビデオSALON】」 url:（http://news.livedoor.com/article/detail/6199877/）\n",
            "\t（距離111.7261962890625)\n",
            "\n",
            "第9位\t文書id:285 「テストレポート フジフイルムX10【ビデオSALON】」 url:（http://news.livedoor.com/article/detail/6079831/）\n",
            "\t（距離111.75818634033203)\n",
            "\n",
            "第10位\t文書id:639 「【セミナー】NEX-FS100での色創りとライティングを映画『彩〜aja〜』から学ぶ【ビデオSALON】」 url:（http://news.livedoor.com/article/detail/6399136/）\n",
            "\t（距離111.81918334960938)\n",
            "\n",
            "-----2番目の結果ここまで-----\n",
            "\n",
            "\n",
            "3番目の検索クエリ:コンピュータ\n",
            "-----検索結果-----\n",
            "第1位\t文書id:577 「家族で使えるタブレット登場！シャープ、NTT西、イオンらが共同でサービス発表【売れ筋チェック】」 url:（http://news.livedoor.com/article/detail/6305029/）\n",
            "\t（距離194.7036590576172)\n",
            "\n",
            "第2位\t文書id:786 「人気の Hulu オリジナルコンテンツが日本初上陸！！【Hulu特集】」 url:（http://news.livedoor.com/article/detail/6782505/）\n",
            "\t（距離196.46121215820312)\n",
            "\n",
            "第3位\t文書id:73 「スマホをカーナビに！ドコモが「ドライブネットクレイドル01」を発売に」 url:（http://news.livedoor.com/article/detail/5855219/）\n",
            "\t（距離196.78298950195312)\n",
            "\n",
            "第4位\t文書id:353 「ライカからオールインワンタイプの光学24倍のズームレンズデジカメ「V-LUX3」発売【売れ筋チェック】」 url:（http://news.livedoor.com/article/detail/6116734/）\n",
            "\t（距離197.09657287597656)\n",
            "\n",
            "第5位\t文書id:724 「今年は満を持して新製品ラッシュ？ソニーからデジタル一眼カメラ“α”（アルファ）シリーズ発売【売れ筋チェック】」 url:（http://news.livedoor.com/article/detail/6586222/）\n",
            "\t（距離197.57925415039062)\n",
            "\n",
            "第6位\t文書id:606 「CP＋2012動画関連で気になった展示【ビデオSALON】」 url:（http://news.livedoor.com/article/detail/6334828/）\n",
            "\t（距離197.66986083984375)\n",
            "\n",
            "第7位\t文書id:78 「まるでお抱えＤＪ！快適に踊り続けるための音楽プレーヤー新発売【売れ筋チェック】」 url:（http://news.livedoor.com/article/detail/5861282/）\n",
            "\t（距離197.7112579345703)\n",
            "\n",
            "第8位\t文書id:98 「iPhone用防水・防塵ケースで快適サイクリング【売れ筋チェック】」 url:（http://news.livedoor.com/article/detail/5888421/）\n",
            "\t（距離198.318603515625)\n",
            "\n",
            "第9位\t文書id:241 「速い！進化したオートフォーカスは0.1秒！！リコーが「CX6」を発売【売れ筋チェック】」 url:（http://news.livedoor.com/article/detail/6052398/）\n",
            "\t（距離198.398681640625)\n",
            "\n",
            "第10位\t文書id:790 「テレコムスクエアが中部国際空港にモバイルレンタル専門店「モバイルセンター」を本日オープン！「モバイルセンター羽田空港」もリニューアルし、国内主要空港でのサポートを拡充」 url:（http://news.livedoor.com/article/detail/6811962/）\n",
            "\t（距離198.4042205810547)\n",
            "\n",
            "-----3番目の結果ここまで-----\n",
            "\n",
            "\n",
            "4番目の検索クエリ:Microsoftに関する記事\n",
            "-----検索結果-----\n",
            "第1位\t文書id:446 「ウィンドウズ版のDaVinci Resolve8.2 のパブリックベータ版がダウンロード可能に【ビデオSALON】」 url:（http://news.livedoor.com/article/detail/6182727/）\n",
            "\t（距離53.12529373168945)\n",
            "\n",
            "第2位\t文書id:290 「連載●一眼流映像表現術 第21回【ビデオSALON】」 url:（http://news.livedoor.com/article/detail/6086124/）\n",
            "\t（距離54.320068359375)\n",
            "\n",
            "第3位\t文書id:380 「中東マネーがすごい！サウジアラビア王子がTwitterに投資で、その額３億ドル！！【話題】」 url:（http://news.livedoor.com/article/detail/6132491/）\n",
            "\t（距離55.11735534667969)\n",
            "\n",
            "第4位\t文書id:285 「テストレポート フジフイルムX10【ビデオSALON】」 url:（http://news.livedoor.com/article/detail/6079831/）\n",
            "\t（距離55.27391815185547)\n",
            "\n",
            "第5位\t文書id:262 「あなたのパスワードは大丈夫？避けた方がいいワーストパスワードが発表【話題】」 url:（http://news.livedoor.com/article/detail/6069991/）\n",
            "\t（距離55.71977233886719)\n",
            "\n",
            "第6位\t文書id:613 「2012年３月号「音の編集講座」BGM【ビデオSALON】」 url:（http://news.livedoor.com/article/detail/6349737/）\n",
            "\t（距離55.824440002441406)\n",
            "\n",
            "第7位\t文書id:449 「EDIUS 3D プレビューバージョン テスター募集のお知らせ【ビデオSALON】」 url:（http://news.livedoor.com/article/detail/6184442/）\n",
            "\t（距離55.842193603515625)\n",
            "\n",
            "第8位\t文書id:583 「ブラックマジックデザイン、HyperDeck SSD レコーダーに タイムコード、DNxHD QuickTime サポートを追加【ビデオSALON】」 url:（http://news.livedoor.com/article/detail/6314262/）\n",
            "\t（距離56.022193908691406)\n",
            "\n",
            "第9位\t文書id:505 「ブラックマジックデザイン、Thunderbolt対応のIntensity Shuttleを発売【ビデオSALON】」 url:（http://news.livedoor.com/article/detail/6236107/）\n",
            "\t（距離56.062461853027344)\n",
            "\n",
            "第10位\t文書id:272 「11月号記事連動「音の編集講座」〜ピッチとスピード【ビデオSALON】」 url:（http://news.livedoor.com/article/detail/6072795/）\n",
            "\t（距離56.281639099121094)\n",
            "\n",
            "-----4番目の結果ここまで-----\n",
            "\n",
            "\n"
          ],
          "name": "stdout"
        }
      ]
    },
    {
      "cell_type": "code",
      "metadata": {
        "id": "vE86UACPTtZd",
        "colab_type": "code",
        "colab": {}
      },
      "source": [
        ""
      ],
      "execution_count": 0,
      "outputs": []
    }
  ]
}