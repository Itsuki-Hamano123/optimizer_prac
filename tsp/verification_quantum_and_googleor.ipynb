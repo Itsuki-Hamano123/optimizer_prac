{
  "nbformat": 4,
  "nbformat_minor": 0,
  "metadata": {
    "colab": {
      "name": "verification_quantum_and_googleor.ipynb",
      "provenance": [],
      "collapsed_sections": [],
      "authorship_tag": "ABX9TyO0QNQE2yhDF3P0CD99/OfS",
      "include_colab_link": true
    },
    "kernelspec": {
      "name": "python3",
      "display_name": "Python 3"
    }
  },
  "cells": [
    {
      "cell_type": "markdown",
      "metadata": {
        "id": "view-in-github",
        "colab_type": "text"
      },
      "source": [
        "<a href=\"https://colab.research.google.com/github/Itsuki-Hamano123/optimizer_prac/blob/master/tsp/verification_quantum_and_googleor.ipynb\" target=\"_parent\"><img src=\"https://colab.research.google.com/assets/colab-badge.svg\" alt=\"Open In Colab\"/></a>"
      ]
    },
    {
      "cell_type": "markdown",
      "metadata": {
        "id": "4FPlbUWP6FVl",
        "colab_type": "text"
      },
      "source": [
        "# 最適化問題における量子コンピュータと古典コンピュータのアプローチの違い\n",
        "現状の量子コンピュータと古典コンピュータ、それぞれどんな手順で最適化問題を解き、どんな解が得られるか実験"
      ]
    },
    {
      "cell_type": "markdown",
      "metadata": {
        "id": "kXOwRcg26yYd",
        "colab_type": "text"
      },
      "source": [
        "**去年、ITmediaに、量子コンピュータは巡回セールスマン問題が解けないのかというテーマで２つ記事が掲載されました。**<br>\n",
        "[ITmedia記事１（https://www.itmedia.co.jp/news/articles/1906/03/news033.html）](https://www.itmedia.co.jp/news/articles/1906/03/news033.html)<br>\n",
        "[ITmedia記事２（https://www.itmedia.co.jp/news/articles/1911/20/news149.html）](https://www.itmedia.co.jp/news/articles/1911/20/news149.html)<br>\n",
        "***\n",
        "2つ目の記事には、「自分の講演では、量子アニーリングで巡回セールスマン問題をやってはダメと伝えている。理由は、組合せ最適化問題の中でも難しい問題で、ガチガチの制約条件を守らないといけないから」という内容がありました。この記事では、主に量子コンピュータのハードから起因したノイズについてメインに語られていました。\n",
        "\n"
      ]
    },
    {
      "cell_type": "markdown",
      "metadata": {
        "id": "0TpHijz89ub9",
        "colab_type": "text"
      },
      "source": [
        "一方で現状の量子コンピュータで、最適化問題を扱うためには、QUBO:(Quadratic Unconstrained Binary Optimization)と言われる「制約なし二次形式二値変数最適化」のフレームワークに落とし込まなければいけません。<br>\n",
        "DeNAで開催された勉強では、**QUBOが起因して巡回セールスマン問題が解けない場合もある**ということを教わりました。<br>\n",
        "そこで、今回は量子コンピュータハードのノイズでなく、そもそも量子コンピュータで制約条件つきの最適化問題を解く際の手順に着目していきたいと思います。"
      ]
    },
    {
      "cell_type": "markdown",
      "metadata": {
        "id": "0zQbS4-jC5gf",
        "colab_type": "text"
      },
      "source": [
        "## 巡回セールスマン問題を解く手順\n",
        "- **量子コンピュータ**\n",
        " 1. 目的関数と制約条件を、それぞれQUBO（制約なし二次形式二値変数最適化）行列に落とし込む\n",
        " 2. ラグランジュ未乗定数（ハイパーパラメータ）を導入し１つの目的関数に結合\n",
        " 3. 量子コンピュータで、最適化問題用の量子アルゴリズム（量子アニーリングないしはQAOA）を使い解（局所解）を求める\n",
        " 4. **制約条件が守られるようなラグランジュ未定乗数を見つけるまで２～３を繰り返す**\n",
        " ***\n",
        "- **古典コンピュータ**\n",
        " 1. 目的関数と制約条件を定義\n",
        " 2. 制約付き最適化ソルバ（今回は動的計画法）に、目的関数と制約条件をそれぞれ渡し、解（局所解または大域最適解）を求める\n",
        " ***\n",
        " 驚くべきことに、量子コンピュータで制約付き最適化問題を解こうとしたときには、手順2～3を何度も繰り返す必要があり、元の最適化問題を解くためにはラグランジュ未乗定数の最適化も行わないといけないことが分かります。<br>"
      ]
    },
    {
      "cell_type": "markdown",
      "metadata": {
        "id": "TP0a4lL5FE66",
        "colab_type": "text"
      },
      "source": [
        "実際に試してみます。\n",
        "### 使用するライブラリ\n",
        "- **座標（グラフ）の生成**\n",
        " - NetworkX\n",
        "- **量子コンピュータ手順で使う**\n",
        " - 「PyQUBO」 QUBO行列の整形、量子アニーリング\n",
        " （現状の量子コンピュータ実機で、量子アニーリングを行うとハード起因のノイズが発生してしまうので、古典コンピュータ上で量子アニーリングをシュミレートして解を求めます）\n",
        "  - 「Hyperopt」 ラグランジュ未乗定数に関するベイズ最適化用（古典コンピュータ上で実行）\n",
        "- **古典コンピュータ手順で使う**\n",
        " - 「Google OR-Tools」 巡回セールスマン問題の古典ソルバ\n"
      ]
    },
    {
      "cell_type": "markdown",
      "metadata": {
        "id": "l_7FtJSuG7hu",
        "colab_type": "text"
      },
      "source": [
        "#### ライブラリのインストールと確認"
      ]
    },
    {
      "cell_type": "code",
      "metadata": {
        "id": "MCsYdESU7LPG",
        "colab_type": "code",
        "outputId": "44fc0925-60be-403b-b1aa-3903dbd21660",
        "colab": {
          "base_uri": "https://localhost:8080/",
          "height": 107
        }
      },
      "source": [
        "!pip install pyqubo"
      ],
      "execution_count": 1,
      "outputs": [
        {
          "output_type": "stream",
          "text": [
            "Requirement already satisfied: pyqubo in /usr/local/lib/python3.6/dist-packages (0.4.0)\n",
            "Requirement already satisfied: six<2.0.0,>=1.10.0 in /usr/local/lib/python3.6/dist-packages (from pyqubo) (1.12.0)\n",
            "Requirement already satisfied: dwave-neal>=0.4.2 in /usr/local/lib/python3.6/dist-packages (from pyqubo) (0.5.3)\n",
            "Requirement already satisfied: dimod>=0.7.4 in /usr/local/lib/python3.6/dist-packages (from pyqubo) (0.9.1)\n",
            "Requirement already satisfied: numpy<2.0.0,>=1.14.0 in /usr/local/lib/python3.6/dist-packages (from pyqubo) (1.18.2)\n"
          ],
          "name": "stdout"
        }
      ]
    },
    {
      "cell_type": "code",
      "metadata": {
        "id": "Nvt8iM5uG7Eq",
        "colab_type": "code",
        "outputId": "7e9cbd3e-7953-4983-e2f2-f8475dae012a",
        "colab": {
          "base_uri": "https://localhost:8080/",
          "height": 89
        }
      },
      "source": [
        "!python -m pip install --upgrade --user ortools"
      ],
      "execution_count": 2,
      "outputs": [
        {
          "output_type": "stream",
          "text": [
            "Requirement already up-to-date: ortools in /root/.local/lib/python3.6/site-packages (7.5.7466)\n",
            "Requirement already satisfied, skipping upgrade: six>=1.10 in /usr/local/lib/python3.6/dist-packages (from ortools) (1.12.0)\n",
            "Requirement already satisfied, skipping upgrade: protobuf>=3.11.2 in /root/.local/lib/python3.6/site-packages (from ortools) (3.11.3)\n",
            "Requirement already satisfied, skipping upgrade: setuptools in /usr/local/lib/python3.6/dist-packages (from protobuf>=3.11.2->ortools) (46.0.0)\n"
          ],
          "name": "stdout"
        }
      ]
    },
    {
      "cell_type": "code",
      "metadata": {
        "id": "1j7-dZrp7LIn",
        "colab_type": "code",
        "outputId": "cce60ca6-ce88-43fb-e1ea-8fdff5e3bbb2",
        "colab": {
          "base_uri": "https://localhost:8080/",
          "height": 557
        }
      },
      "source": [
        "!pip show pyqubo\n",
        "!pip show ortools\n",
        "!pip show networkx"
      ],
      "execution_count": 3,
      "outputs": [
        {
          "output_type": "stream",
          "text": [
            "Name: pyqubo\n",
            "Version: 0.4.0\n",
            "Summary: PyQUBO allows you to create QUBOs or Ising models from mathematical expressions.\n",
            "Home-page: https://github.com/recruit-communications/pyqubo\n",
            "Author: Recruit Communications Co., Ltd.\n",
            "Author-email: rco_pyqubo@ml.cocorou.jp\n",
            "License: Apache 2.0\n",
            "Location: /usr/local/lib/python3.6/dist-packages\n",
            "Requires: dimod, dwave-neal, six, numpy\n",
            "Required-by: \n",
            "Name: ortools\n",
            "Version: 7.5.7466\n",
            "Summary: Google OR-Tools python libraries and modules\n",
            "Home-page: https://developers.google.com/optimization/\n",
            "Author: Google Inc\n",
            "Author-email: lperron@google.com\n",
            "License: Apache 2.0\n",
            "Location: /root/.local/lib/python3.6/site-packages\n",
            "Requires: six, protobuf\n",
            "Required-by: \n",
            "Name: networkx\n",
            "Version: 2.4\n",
            "Summary: Python package for creating and manipulating graphs and networks\n",
            "Home-page: http://networkx.github.io/\n",
            "Author: Aric Hagberg\n",
            "Author-email: hagberg@lanl.gov\n",
            "License: BSD\n",
            "Location: /usr/local/lib/python3.6/dist-packages\n",
            "Requires: decorator\n",
            "Required-by: graph-nets, scikit-image, python-louvain, hyperopt\n"
          ],
          "name": "stdout"
        }
      ]
    },
    {
      "cell_type": "markdown",
      "metadata": {
        "id": "e7WGwGsmIVZj",
        "colab_type": "text"
      },
      "source": [
        "### 必要モジュールのimport、定義"
      ]
    },
    {
      "cell_type": "code",
      "metadata": {
        "id": "1MxNUYFA5tgH",
        "colab_type": "code",
        "colab": {}
      },
      "source": [
        "# 必要モジュール\n",
        "from pprint import pprint\n",
        "import time\n",
        "import matplotlib.pyplot as plt\n",
        "import networkx as nx\n",
        "from ortools.constraint_solver import pywrapcp"
      ],
      "execution_count": 0,
      "outputs": []
    },
    {
      "cell_type": "code",
      "metadata": {
        "id": "kd2F-79AJC5N",
        "colab_type": "code",
        "colab": {}
      },
      "source": [
        "def time_watch(func):\n",
        "    \"\"\"時間計測用デコレータ関数\n",
        "    \n",
        "    Parameters\n",
        "    -----\n",
        "    func : function\n",
        "        実行したい関数\n",
        "\n",
        "    \"\"\"\n",
        "    import functools\n",
        "    import datetime\n",
        "    @functools.wraps(func)\n",
        "    def wrapper(*args, **kwargs):\n",
        "        start = datetime.datetime.today()\n",
        "        result = func(*args, **kwargs)\n",
        "        end = datetime.datetime.today()\n",
        "        print(\"実行時間:{time}\".format(time=end - start))\n",
        "        return result\n",
        "    return wrapper"
      ],
      "execution_count": 0,
      "outputs": []
    },
    {
      "cell_type": "code",
      "metadata": {
        "id": "v0dG_AgEJFdx",
        "colab_type": "code",
        "colab": {}
      },
      "source": [
        "def explain(item, shows_private=False, shows_method=False):\n",
        "    \"\"\"\n",
        "    与えた python オブジェクトの詳細を表示します。\n",
        "    \n",
        "    Notes\n",
        "    -----\n",
        "    引用元のサイト:https://qiita.com/halhorn/items/7b8351c5eafbfa28d768\n",
        "    \"\"\"\n",
        "    print('EXPLAIN ------------------')\n",
        "    print(item)\n",
        "    print(type(item))\n",
        "    print('ATTRIBUTES:')\n",
        "    for d in dir(item):\n",
        "        if d == 'type':\n",
        "            continue\n",
        "        if not shows_private and d.startswith('_'):\n",
        "            continue\n",
        "        attr = getattr(item, d)\n",
        "        if not shows_method and (\n",
        "                isinstance(attr, types.MethodType) or\n",
        "                isinstance(attr, types.BuiltinMethodType) or\n",
        "                isinstance(attr, types.CoroutineType) or\n",
        "                isinstance(attr, types.FunctionType) or\n",
        "                isinstance(attr, types.BuiltinFunctionType) or\n",
        "                isinstance(attr, types.GeneratorType)\n",
        "        ):\n",
        "            continue\n",
        "        print('{}:\\t{}'.format(d, attr))"
      ],
      "execution_count": 0,
      "outputs": []
    },
    {
      "cell_type": "markdown",
      "metadata": {
        "id": "oOBV0n9LHt53",
        "colab_type": "text"
      },
      "source": [
        "## 座標を定義\n",
        "最短経路がA→C→D→B→Aとなる以下サイトの4都市を定義<br>[（https://developers.google.com/optimization/routing）](https://developers.google.com/optimization/routing)"
      ]
    },
    {
      "cell_type": "code",
      "metadata": {
        "id": "otQKvAs76FIn",
        "colab_type": "code",
        "outputId": "d84aa072-0a5f-4c3b-bcd4-8eb6229df280",
        "colab": {
          "base_uri": "https://localhost:8080/",
          "height": 248
        }
      },
      "source": [
        "G = nx.Graph()\n",
        "\n",
        "nodes = ['A','B','C','D']\n",
        "G.add_nodes_from(nodes)\n",
        "\n",
        "weight = 'length'\n",
        "edges = [('A','B',10),('A','C',35),('A','D',30),\n",
        "         ('B','C',30),('B','D',15),('C','D',30)]\n",
        "G.add_weighted_edges_from(edges, weight=weight)\n",
        "\n",
        "# グラフ描画\n",
        "pos = nx.shell_layout(G)\n",
        "nx.draw_networkx_edge_labels(G, pos)\n",
        "nx.draw(G, pos, node_color='grey', with_labels=True)\n",
        "plt.show()"
      ],
      "execution_count": 26,
      "outputs": [
        {
          "output_type": "display_data",
          "data": {
            "image/png": "[encoded data removed]",
            "text/plain": [
              "<Figure size 432x288 with 1 Axes>"
            ]
          },
          "metadata": {
            "tags": []
          }
        }
      ]
    },
    {
      "cell_type": "markdown",
      "metadata": {
        "id": "2KGn8Abk0Wit",
        "colab_type": "text"
      },
      "source": [
        "## （PyQUBOとHyperoptを使い）量子コンピュータで最短経路を求める\n",
        "ラグランジュ未乗定数の最適化には、ベイズ最適化（古典コンピュータ）を使う\n"
      ]
    },
    {
      "cell_type": "markdown",
      "metadata": {
        "id": "8SO-oiWJ64PV",
        "colab_type": "text"
      },
      "source": [
        "### 問題の定式化\n",
        "巡回セールスマンの定式化は以下のサイトを参考<br>[(https://quantum.fixstars.com/techresouces/application/traveling-salesman/)](https://quantum.fixstars.com/techresouces/application/traveling-salesman/)\n",
        "***\n",
        "**目的関数**<br>\n",
        "- 最小化したい総経路についての式\n",
        " $$L=\\frac{1}{2}\\sum_{a,i,j}d_{i,j}n_{a,i}(n_{a+1,j}+n_{a-1,j})$$\n",
        "\n",
        "***\n",
        "**制約条件**\n",
        "1. 同時に複数の都市を訪れてはいけない\n",
        "$$\\sum_{i}(\\sum_{a}n_{a,i}-1)^2$$\n",
        "2. 複数回訪れたり、一度も訪れない都市があってはならない\n",
        "$$\\sum_{a}(\\sum_{i}n_{a,i}-1)^2$$\n"
      ]
    },
    {
      "cell_type": "code",
      "metadata": {
        "id": "V-BIqnFp6YhQ",
        "colab_type": "code",
        "colab": {}
      },
      "source": [
        ""
      ],
      "execution_count": 0,
      "outputs": []
    },
    {
      "cell_type": "markdown",
      "metadata": {
        "id": "q3bqxQWu-p9w",
        "colab_type": "text"
      },
      "source": [
        "### 2つの制約条件を1つの目的関数に結合\n",
        "結合する際にはラグランジュ未乗定数を使い結合する。以下の式の場合、$k_1$と$k_2$がそれにあたる"
      ]
    },
    {
      "cell_type": "markdown",
      "metadata": {
        "id": "dSZqq2yu_P2I",
        "colab_type": "text"
      },
      "source": [
        "#### （ラグランジュ未乗定数を全て1のまま解を求めた場合）"
      ]
    },
    {
      "cell_type": "markdown",
      "metadata": {
        "id": "YRsJsup9VWMV",
        "colab_type": "text"
      },
      "source": [
        "## （Google OR-Toolsを使い）古典コンピュータで最短経路を求める"
      ]
    },
    {
      "cell_type": "markdown",
      "metadata": {
        "id": "ucT1EmO6sR_y",
        "colab_type": "text"
      },
      "source": [
        "### 問題を定義"
      ]
    },
    {
      "cell_type": "code",
      "metadata": {
        "id": "zfr4lQLm6Vbv",
        "colab_type": "code",
        "colab": {}
      },
      "source": [
        "def select_distance_matrix(g, weight):\n",
        "    \"\"\"\n",
        "    距離行列の算出\n",
        "    \n",
        "    Parameters\n",
        "    -----\n",
        "    g : obj of graph\n",
        "    weight : string\n",
        "\n",
        "    Returns\n",
        "    -----\n",
        "    distance_matrix : list of list of int\n",
        "    \"\"\"\n",
        "    distance_matrix = []\n",
        "    nodes = list(g.nodes)\n",
        "    \n",
        "    for from_node in nodes:\n",
        "        distance_list = []\n",
        "        for to_node in nodes:\n",
        "            if from_node == to_node:\n",
        "                distance_list.append(0)\n",
        "            else: \n",
        "                distance_list.append(g[from_node][to_node][weight])\n",
        "        distance_matrix.append(distance_list)\n",
        "\n",
        "    return distance_matrix\n",
        "\n",
        "\n",
        "def definition_data (g, weight, num_vehicles, depot):\n",
        "    \"\"\"\n",
        "    Google OR-Tools用に問題を整形\n",
        "\n",
        "    Parameters\n",
        "    -----\n",
        "    g : obj of graph\n",
        "    num_vehicles : int\n",
        "        セールスマンの数\n",
        "    depot : int\n",
        "        始点（終点）\n",
        "    \n",
        "    Returns\n",
        "    -----\n",
        "    data : obj\n",
        "    \"\"\"\n",
        "    data = {}\n",
        "    data['distance_matrix'] = select_distance_matrix(g, weight)\n",
        "    data['num_vehicles'] = num_vehicles\n",
        "    data['depot'] = depot\n",
        "    return data"
      ],
      "execution_count": 0,
      "outputs": []
    },
    {
      "cell_type": "code",
      "metadata": {
        "id": "vmRbMT-_Z5H2",
        "colab_type": "code",
        "colab": {}
      },
      "source": [
        "data = definition_data(g=G, weight=weight, num_vehicles=1, depot=0)"
      ],
      "execution_count": 0,
      "outputs": []
    },
    {
      "cell_type": "markdown",
      "metadata": {
        "id": "3ZnR4t1Yt1up",
        "colab_type": "text"
      },
      "source": [
        "### ソルバの準備"
      ]
    },
    {
      "cell_type": "code",
      "metadata": {
        "id": "T0Qc5lO9n6Ir",
        "colab_type": "code",
        "colab": {}
      },
      "source": [
        "manager = pywrapcp.RoutingIndexManager(len(data['distance_matrix']),\n",
        "                                       data['num_vehicles'], data['depot'])\n",
        "routing = pywrapcp.RoutingModel(manager)"
      ],
      "execution_count": 0,
      "outputs": []
    },
    {
      "cell_type": "code",
      "metadata": {
        "id": "5eqbqefZt0jt",
        "colab_type": "code",
        "colab": {}
      },
      "source": [
        "def distance_callback(from_index, to_index):\n",
        "    \"\"\"\n",
        "    2点間の距離を返すコールバック関数\n",
        "    \"\"\"\n",
        "    # Convert from routing variable Index to distance matrix NodeIndex.\n",
        "    from_node = manager.IndexToNode(from_index)\n",
        "    to_node = manager.IndexToNode(to_index)\n",
        "    return data['distance_matrix'][from_node][to_node]"
      ],
      "execution_count": 0,
      "outputs": []
    },
    {
      "cell_type": "code",
      "metadata": {
        "id": "9XkNzVgJuByd",
        "colab_type": "code",
        "colab": {}
      },
      "source": [
        "transit_callback_index = routing.RegisterTransitCallback(distance_callback)"
      ],
      "execution_count": 0,
      "outputs": []
    },
    {
      "cell_type": "code",
      "metadata": {
        "id": "u2GQSpnKuMXP",
        "colab_type": "code",
        "colab": {}
      },
      "source": [
        "routing.SetArcCostEvaluatorOfAllVehicles(transit_callback_index)"
      ],
      "execution_count": 0,
      "outputs": []
    },
    {
      "cell_type": "markdown",
      "metadata": {
        "id": "wxzS01piv14u",
        "colab_type": "text"
      },
      "source": [
        "最適なソルバ発見の戦略設定<br>\n",
        "（[詳細な公式ドキュメント(https://developers.google.com/optimization/routing/routing_options#first_sol_options)](https://developers.google.com/optimization/routing/routing_options#first_sol_options)"
      ]
    },
    {
      "cell_type": "code",
      "metadata": {
        "id": "fLiv5pkLuO1i",
        "colab_type": "code",
        "colab": {}
      },
      "source": [
        "search_parameters = pywrapcp.DefaultRoutingSearchParameters()"
      ],
      "execution_count": 0,
      "outputs": []
    },
    {
      "cell_type": "markdown",
      "metadata": {
        "id": "O6zzQzBJsXj9",
        "colab_type": "text"
      },
      "source": [
        "### 最短経路算出"
      ]
    },
    {
      "cell_type": "code",
      "metadata": {
        "id": "VAUH9GM8wJBs",
        "colab_type": "code",
        "colab": {}
      },
      "source": [
        "@time_watch\n",
        "def solv(routing, search_parameters):\n",
        "    \"\"\"\n",
        "    ソルバで解く\n",
        "    \n",
        "    Parameters\n",
        "    -----\n",
        "    routing : obj of routing\n",
        "    search_parameters : obj of search_parameters\n",
        "\n",
        "    Returns\n",
        "    -----\n",
        "    solution : obj of solution\n",
        "    \"\"\"\n",
        "    solution = routing.SolveWithParameters(search_parameters)\n",
        "    if solution:\n",
        "      return solution"
      ],
      "execution_count": 0,
      "outputs": []
    },
    {
      "cell_type": "code",
      "metadata": {
        "id": "qI2seuHktip3",
        "colab_type": "code",
        "colab": {}
      },
      "source": [
        "def print_solution(manager, routing, solution):\n",
        "  \"\"\"\n",
        "  結果を綺麗に描画\n",
        "\n",
        "  INFO : 公式ドキュメントから抜粋（https://developers.google.com/optimization/routing/tsp）\n",
        "  \"\"\"\n",
        "  print('Objective: {} miles'.format(solution.ObjectiveValue()))\n",
        "  index = routing.Start(0)\n",
        "  plan_output = 'Route for vehicle 0:\\n'\n",
        "  route_distance = 0\n",
        "  while not routing.IsEnd(index):\n",
        "    plan_output += ' {} ->'.format(manager.IndexToNode(index))\n",
        "    previous_index = index\n",
        "    index = solution.Value(routing.NextVar(index))\n",
        "    route_distance += routing.GetArcCostForVehicle(previous_index, index, 0)\n",
        "  plan_output += ' {}\\n'.format(manager.IndexToNode(index))\n",
        "  print(plan_output)\n",
        "  plan_output += 'Route distance: {}miles\\n'.format(route_distance)"
      ],
      "execution_count": 0,
      "outputs": []
    },
    {
      "cell_type": "code",
      "metadata": {
        "id": "WeS1yG8-tlGJ",
        "colab_type": "code",
        "colab": {
          "base_uri": "https://localhost:8080/",
          "height": 107
        },
        "outputId": "8990b473-97e7-4068-8145-d0c740bc4463"
      },
      "source": [
        "solution = solv(routing=routing, search_parameters=search_parameters)\n",
        "if solution:\n",
        "    print_solution(manager, routing, solution)"
      ],
      "execution_count": 104,
      "outputs": [
        {
          "output_type": "stream",
          "text": [
            "実行時間:0:00:00.000507\n",
            "Objective: 90 miles\n",
            "Route for vehicle 0:\n",
            " 0 -> 1 -> 3 -> 2 -> 0\n",
            "\n"
          ],
          "name": "stdout"
        }
      ]
    },
    {
      "cell_type": "markdown",
      "metadata": {
        "id": "DQnZZXPfyY-k",
        "colab_type": "text"
      },
      "source": [
        "### 結果\n",
        "- 実行時間\n",
        " - 0:00:00.000507\n",
        "- 巡回ルート\n",
        " - A → B → D → C → A\n",
        "- 経路の総距離\n",
        " - 90"
      ]
    },
    {
      "cell_type": "code",
      "metadata": {
        "id": "aE01IJ6FyVJT",
        "colab_type": "code",
        "colab": {}
      },
      "source": [
        ""
      ],
      "execution_count": 0,
      "outputs": []
    }
  ]
}