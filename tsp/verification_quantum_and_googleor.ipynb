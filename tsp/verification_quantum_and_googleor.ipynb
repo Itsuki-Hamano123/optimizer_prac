{
  "nbformat": 4,
  "nbformat_minor": 0,
  "metadata": {
    "colab": {
      "name": "verification_quantum_and_googleor.ipynb",
      "provenance": [],
      "collapsed_sections": [],
      "toc_visible": true,
      "authorship_tag": "ABX9TyPvx1T5RxqJsnApLVxsZdI6",
      "include_colab_link": true
    },
    "kernelspec": {
      "name": "python3",
      "display_name": "Python 3"
    }
  },
  "cells": [
    {
      "cell_type": "markdown",
      "metadata": {
        "id": "view-in-github",
        "colab_type": "text"
      },
      "source": [
        "<a href=\"https://colab.research.google.com/github/Itsuki-Hamano123/optimizer_prac/blob/master/tsp/verification_quantum_and_googleor.ipynb\" target=\"_parent\"><img src=\"https://colab.research.google.com/assets/colab-badge.svg\" alt=\"Open In Colab\"/></a>"
      ]
    },
    {
      "cell_type": "markdown",
      "metadata": {
        "id": "4FPlbUWP6FVl",
        "colab_type": "text"
      },
      "source": [
        "# 最適化問題における量子コンピュータと古典コンピュータのアプローチの違い\n",
        "現状の量子コンピュータと古典コンピュータ、それぞれどんな手順で最適化問題を解き、どんな解が得られるか実験"
      ]
    },
    {
      "cell_type": "markdown",
      "metadata": {
        "id": "kXOwRcg26yYd",
        "colab_type": "text"
      },
      "source": [
        "**去年、ITmediaに、量子コンピュータは巡回セールスマン問題が解けないのかというテーマで２つ記事が掲載されました。**<br>\n",
        "[ITmedia記事１（https://www.itmedia.co.jp/news/articles/1906/03/news033.html）](https://www.itmedia.co.jp/news/articles/1906/03/news033.html)<br>\n",
        "[ITmedia記事２（https://www.itmedia.co.jp/news/articles/1911/20/news149.html）](https://www.itmedia.co.jp/news/articles/1911/20/news149.html)<br>\n",
        "***\n",
        "2つ目の記事には、「自分の講演では、量子アニーリングで巡回セールスマン問題をやってはダメと伝えている。理由は、組合せ最適化問題の中でも難しい問題で、ガチガチの制約条件を守らないといけないから」という内容がありました。この記事では、主に量子コンピュータのハードから起因したノイズについてメインに語られていました。\n",
        "\n"
      ]
    },
    {
      "cell_type": "markdown",
      "metadata": {
        "id": "0TpHijz89ub9",
        "colab_type": "text"
      },
      "source": [
        "一方で現状の量子コンピュータで、最適化問題を扱うためには、QUBO:(Quadratic Unconstrained Binary Optimization)と言われる「制約なし二次形式二値変数最適化」のフレームワークに落とし込まなければいけません。<br>\n",
        "DeNAで開催された勉強では、**QUBOが起因して巡回セールスマン問題が解けない場合もある**ということを教わりました。<br>\n",
        "そこで、今回は量子コンピュータハードのノイズでなく、そもそも量子コンピュータで制約条件つきの最適化問題を解く際の手順に着目していきたいと思います。"
      ]
    },
    {
      "cell_type": "markdown",
      "metadata": {
        "id": "0zQbS4-jC5gf",
        "colab_type": "text"
      },
      "source": [
        "## 巡回セールスマン問題を解く手順\n",
        "- **量子コンピュータ**\n",
        " 1. 目的関数と制約条件を、それぞれQUBO（制約なし二次形式二値変数最適化）行列に落とし込む\n",
        " 2. ラグランジュ未乗定数（ハイパーパラメータ）を導入し１つの目的関数に結合\n",
        " 3. 量子コンピュータで、最適化問題用の量子アルゴリズム（量子アニーリングないしはQAOA）を使い解（局所解）を求める\n",
        " 4. **制約条件が守られるようなラグランジュ未定乗数を見つけるまで２～３を繰り返す**\n",
        " ***\n",
        "- **古典コンピュータ**\n",
        " 1. 目的関数と制約条件を定義\n",
        " 2. 制約付き最適化ソルバ（今回は動的計画法）に、目的関数と制約条件をそれぞれ渡し、解（局所解または大域最適解）を求める\n",
        " ***\n",
        " 驚くべきことに、量子コンピュータで制約付き最適化問題を解こうとしたときには、手順2～3を何度も繰り返す必要があり、元の最適化問題を解くためにはラグランジュ未乗定数の最適化も行わないといけないことが分かります。<br>"
      ]
    },
    {
      "cell_type": "markdown",
      "metadata": {
        "id": "TP0a4lL5FE66",
        "colab_type": "text"
      },
      "source": [
        "実際に試してみます。\n",
        "### 使用するライブラリ\n",
        "- **座標（グラフ）の生成**\n",
        " - NetworkX\n",
        "- **量子コンピュータのソルバ関連**\n",
        " - PyQUBO\n",
        " （現状の量子コンピュータ実機で計算してしまうとノイズが発生してしまうので、今回は古典コンピュータ上で量子アニーリングをシュミレートして解を求めます。）\n",
        "- **古典コンピュータのソルバ関連**\n",
        " - Google OR-Tools（巡回セールスマン問題用のソルバがあるので使ってみます）\n"
      ]
    },
    {
      "cell_type": "markdown",
      "metadata": {
        "id": "l_7FtJSuG7hu",
        "colab_type": "text"
      },
      "source": [
        "#### ライブラリのインストールと確認"
      ]
    },
    {
      "cell_type": "code",
      "metadata": {
        "id": "MCsYdESU7LPG",
        "colab_type": "code",
        "outputId": "23e419d4-2fe9-4a4b-8240-58d91886adfe",
        "colab": {
          "base_uri": "https://localhost:8080/",
          "height": 343
        }
      },
      "source": [
        "!pip install pyqubo"
      ],
      "execution_count": 0,
      "outputs": [
        {
          "output_type": "stream",
          "text": [
            "Collecting pyqubo\n",
            "  Downloading https://files.pythonhosted.org/packages/28/57/ba41de3b13ba23e981463aa1daa2ebe6bd9dcddb15571e4c5905463326c7/pyqubo-0.4.0.tar.gz\n",
            "Collecting dimod>=0.7.4\n",
            "\u001b[?25l  Downloading https://files.pythonhosted.org/packages/03/b9/a339915f9965c929eeea327a19ac0684aeb4b746a7750d102d4eb3e51baf/dimod-0.9.1-cp36-cp36m-manylinux1_x86_64.whl (4.7MB)\n",
            "\u001b[K     |████████████████████████████████| 4.7MB 5.4MB/s \n",
            "\u001b[?25hRequirement already satisfied: numpy<2.0.0,>=1.14.0 in /usr/local/lib/python3.6/dist-packages (from pyqubo) (1.18.1)\n",
            "Requirement already satisfied: six<2.0.0,>=1.10.0 in /usr/local/lib/python3.6/dist-packages (from pyqubo) (1.12.0)\n",
            "Collecting dwave-neal>=0.4.2\n",
            "\u001b[?25l  Downloading https://files.pythonhosted.org/packages/bc/19/10c5648e63b5e204d4d8e6cc41414c60cb5e49a4cac725b8fc7f20f30451/dwave_neal-0.5.3-cp36-cp36m-manylinux1_x86_64.whl (390kB)\n",
            "\u001b[K     |████████████████████████████████| 399kB 37.0MB/s \n",
            "\u001b[?25hBuilding wheels for collected packages: pyqubo\n",
            "  Building wheel for pyqubo (setup.py) ... \u001b[?25l\u001b[?25hdone\n",
            "  Created wheel for pyqubo: filename=pyqubo-0.4.0-cp36-none-any.whl size=40712 sha256=8424965601c9f44d55353effe465d581570d49336f953c151979763b61e7638f\n",
            "  Stored in directory: /root/.cache/pip/wheels/77/b7/47/b989889699f788f4fecdc534bfddbb16df9a9a51f4e431b04d\n",
            "Successfully built pyqubo\n",
            "Installing collected packages: dimod, dwave-neal, pyqubo\n",
            "Successfully installed dimod-0.9.1 dwave-neal-0.5.3 pyqubo-0.4.0\n"
          ],
          "name": "stdout"
        }
      ]
    },
    {
      "cell_type": "code",
      "metadata": {
        "id": "Nvt8iM5uG7Eq",
        "colab_type": "code",
        "outputId": "f9ddc2ba-9936-4caa-fdbb-a567c54a4bc9",
        "colab": {
          "base_uri": "https://localhost:8080/",
          "height": 253
        }
      },
      "source": [
        "!python -m pip install --upgrade --user ortools"
      ],
      "execution_count": 0,
      "outputs": [
        {
          "output_type": "stream",
          "text": [
            "Collecting ortools\n",
            "\u001b[?25l  Downloading https://files.pythonhosted.org/packages/db/8f/7c099bcedd55df8f215ba42b50fd4db6fa5de69bb5b14a0586871683edcd/ortools-7.5.7466-cp36-cp36m-manylinux1_x86_64.whl (27.9MB)\n",
            "\u001b[K     |████████████████████████████████| 27.9MB 144kB/s \n",
            "\u001b[?25hRequirement already satisfied, skipping upgrade: six>=1.10 in /usr/local/lib/python3.6/dist-packages (from ortools) (1.12.0)\n",
            "Collecting protobuf>=3.11.2\n",
            "\u001b[?25l  Downloading https://files.pythonhosted.org/packages/57/02/5432412c162989260fab61fa65e0a490c1872739eb91a659896e4d554b26/protobuf-3.11.3-cp36-cp36m-manylinux1_x86_64.whl (1.3MB)\n",
            "\u001b[K     |████████████████████████████████| 1.3MB 45.7MB/s \n",
            "\u001b[?25hRequirement already satisfied, skipping upgrade: setuptools in /usr/local/lib/python3.6/dist-packages (from protobuf>=3.11.2->ortools) (45.2.0)\n",
            "\u001b[31mERROR: tensorflow-federated 0.12.0 has requirement tensorflow~=2.1.0, but you'll have tensorflow 1.15.0 which is incompatible.\u001b[0m\n",
            "\u001b[31mERROR: tensorflow-federated 0.12.0 has requirement tensorflow-addons~=0.7.0, but you'll have tensorflow-addons 0.8.3 which is incompatible.\u001b[0m\n",
            "Installing collected packages: protobuf, ortools\n",
            "Successfully installed ortools-7.5.7466 protobuf-3.11.3\n"
          ],
          "name": "stdout"
        }
      ]
    },
    {
      "cell_type": "code",
      "metadata": {
        "id": "1j7-dZrp7LIn",
        "colab_type": "code",
        "outputId": "9a4d0e62-94d6-4643-f6fe-e004ce86be9a",
        "colab": {
          "base_uri": "https://localhost:8080/",
          "height": 557
        }
      },
      "source": [
        "!pip show pyqubo\n",
        "!pip show ortools\n",
        "!pip show networkx"
      ],
      "execution_count": 0,
      "outputs": [
        {
          "output_type": "stream",
          "text": [
            "Name: pyqubo\n",
            "Version: 0.4.0\n",
            "Summary: PyQUBO allows you to create QUBOs or Ising models from mathematical expressions.\n",
            "Home-page: https://github.com/recruit-communications/pyqubo\n",
            "Author: Recruit Communications Co., Ltd.\n",
            "Author-email: rco_pyqubo@ml.cocorou.jp\n",
            "License: Apache 2.0\n",
            "Location: /usr/local/lib/python3.6/dist-packages\n",
            "Requires: dwave-neal, dimod, six, numpy\n",
            "Required-by: \n",
            "Name: ortools\n",
            "Version: 7.5.7466\n",
            "Summary: Google OR-Tools python libraries and modules\n",
            "Home-page: https://developers.google.com/optimization/\n",
            "Author: Google Inc\n",
            "Author-email: lperron@google.com\n",
            "License: Apache 2.0\n",
            "Location: /root/.local/lib/python3.6/site-packages\n",
            "Requires: protobuf, six\n",
            "Required-by: \n",
            "Name: networkx\n",
            "Version: 2.4\n",
            "Summary: Python package for creating and manipulating graphs and networks\n",
            "Home-page: http://networkx.github.io/\n",
            "Author: Aric Hagberg\n",
            "Author-email: hagberg@lanl.gov\n",
            "License: BSD\n",
            "Location: /usr/local/lib/python3.6/dist-packages\n",
            "Requires: decorator\n",
            "Required-by: scikit-image, python-louvain, hyperopt, graph-nets\n"
          ],
          "name": "stdout"
        }
      ]
    },
    {
      "cell_type": "markdown",
      "metadata": {
        "id": "e7WGwGsmIVZj",
        "colab_type": "text"
      },
      "source": [
        "### 必要モジュールのimport、定義"
      ]
    },
    {
      "cell_type": "code",
      "metadata": {
        "id": "1MxNUYFA5tgH",
        "colab_type": "code",
        "colab": {}
      },
      "source": [
        "# 必要モジュール\n",
        "from pprint import pprint\n",
        "import time\n",
        "import networkx"
      ],
      "execution_count": 0,
      "outputs": []
    },
    {
      "cell_type": "code",
      "metadata": {
        "id": "kd2F-79AJC5N",
        "colab_type": "code",
        "colab": {}
      },
      "source": [
        "def time_watch(func):\n",
        "    \"\"\"時間計測用デコレータ関数\n",
        "    \n",
        "    Parameters\n",
        "    -----\n",
        "    func : function\n",
        "        実行したい関数\n",
        "\n",
        "    \"\"\"\n",
        "    import functools\n",
        "    import datetime\n",
        "    @functools.wraps(func)\n",
        "    def wrapper(*args, **kwargs):\n",
        "        start = datetime.datetime.today()\n",
        "        result = func(*args, **kwargs)\n",
        "        end = datetime.datetime.today()\n",
        "        print(\"実行時間:{time}\".format(time=end - start))\n",
        "        return result\n",
        "    return wrapper"
      ],
      "execution_count": 0,
      "outputs": []
    },
    {
      "cell_type": "code",
      "metadata": {
        "id": "v0dG_AgEJFdx",
        "colab_type": "code",
        "colab": {}
      },
      "source": [
        "def explain(item, shows_private=False, shows_method=False):\n",
        "    \"\"\"\n",
        "    与えた python オブジェクトの詳細を表示します。\n",
        "    \n",
        "    Notes\n",
        "    -----\n",
        "    引用元のサイト:https://qiita.com/halhorn/items/7b8351c5eafbfa28d768\n",
        "    \"\"\"\n",
        "    print('EXPLAIN ------------------')\n",
        "    print(item)\n",
        "    print(type(item))\n",
        "    print('ATTRIBUTES:')\n",
        "    for d in dir(item):\n",
        "        if d == 'type':\n",
        "            continue\n",
        "        if not shows_private and d.startswith('_'):\n",
        "            continue\n",
        "        attr = getattr(item, d)\n",
        "        if not shows_method and (\n",
        "                isinstance(attr, types.MethodType) or\n",
        "                isinstance(attr, types.BuiltinMethodType) or\n",
        "                isinstance(attr, types.CoroutineType) or\n",
        "                isinstance(attr, types.FunctionType) or\n",
        "                isinstance(attr, types.BuiltinFunctionType) or\n",
        "                isinstance(attr, types.GeneratorType)\n",
        "        ):\n",
        "            continue\n",
        "        print('{}:\\t{}'.format(d, attr))"
      ],
      "execution_count": 0,
      "outputs": []
    },
    {
      "cell_type": "markdown",
      "metadata": {
        "id": "oOBV0n9LHt53",
        "colab_type": "text"
      },
      "source": [
        "## 座標を定義"
      ]
    },
    {
      "cell_type": "code",
      "metadata": {
        "id": "3b04BM7B6yIq",
        "colab_type": "code",
        "colab": {}
      },
      "source": [
        ""
      ],
      "execution_count": 0,
      "outputs": []
    },
    {
      "cell_type": "code",
      "metadata": {
        "id": "otQKvAs76FIn",
        "colab_type": "code",
        "colab": {}
      },
      "source": [
        ""
      ],
      "execution_count": 0,
      "outputs": []
    },
    {
      "cell_type": "code",
      "metadata": {
        "id": "zfr4lQLm6Vbv",
        "colab_type": "code",
        "colab": {}
      },
      "source": [
        ""
      ],
      "execution_count": 0,
      "outputs": []
    }
  ]
}